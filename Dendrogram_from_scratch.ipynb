{
 "cells": [
  {
   "cell_type": "code",
   "execution_count": null,
   "id": "1c3a1a36-86eb-4b75-8f54-edf65fb28a60",
   "metadata": {},
   "outputs": [],
   "source": [
    "- We need to calculate the distance between each point to the other point\n",
    "\n",
    "- There are two methods\n",
    "\n",
    "- One is using numpy package\n",
    "\n",
    "- Second one we can built a function from scratch\n",
    "\n",
    "- point1:  (5,6)\n",
    "- list of points :  [(1,2),(3,5),(6,7)]"
   ]
  },
  {
   "cell_type": "code",
   "execution_count": 10,
   "id": "8aa58c66-bdce-41fd-a90b-0ed5b7b30c7a",
   "metadata": {},
   "outputs": [
    {
     "data": {
      "text/plain": [
       "(1, 2)"
      ]
     },
     "execution_count": 10,
     "metadata": {},
     "output_type": "execute_result"
    }
   ],
   "source": [
    "l=[(1,2),(3,5),(6,7)]\n",
    "d=[]\n",
    "import numpy as np\n",
    "for i in l:\n",
    "    d.append(np.sqrt((i[0]-5)**2+(i[1]-6)**2))\n",
    "\n",
    "l[np.argmax(d)]"
   ]
  },
  {
   "cell_type": "code",
   "execution_count": 12,
   "id": "12d3e611-954d-45f7-ad45-be851af43837",
   "metadata": {},
   "outputs": [
    {
     "data": {
      "text/plain": [
       "1.4142135623730951"
      ]
     },
     "execution_count": 12,
     "metadata": {},
     "output_type": "execute_result"
    }
   ],
   "source": [
    "# works when data is in array\n",
    "import numpy as np\n",
    "val=np.array([[2,5],[3,6],[7,10],[12,10],[6,3],[10,20]])\n",
    "np.linalg.norm(val[0] -val[1])"
   ]
  },
  {
   "cell_type": "code",
   "execution_count": 13,
   "id": "74c21ae5-ee14-489b-b9cc-f954d5537903",
   "metadata": {},
   "outputs": [
    {
     "data": {
      "text/plain": [
       "1.4142135623730951"
      ]
     },
     "execution_count": 13,
     "metadata": {},
     "output_type": "execute_result"
    }
   ],
   "source": [
    "def euclidean_distance_scratch(a, b):\n",
    "    v1=np.square(a[1]-b[1])\n",
    "    v2=np.square(a[0]-b[0])\n",
    "    distance=np.sqrt(v1+v2)\n",
    "    return distance\n",
    "\n",
    "euclidean_distance_scratch(val[0],val[1])"
   ]
  },
  {
   "cell_type": "code",
   "execution_count": 14,
   "id": "3c805e33-9417-41f9-9cac-82a7f077739d",
   "metadata": {},
   "outputs": [
    {
     "data": {
      "text/plain": [
       "1.4142135623730951"
      ]
     },
     "execution_count": 14,
     "metadata": {},
     "output_type": "execute_result"
    }
   ],
   "source": [
    "def euclidean_distance_np(a, b):\n",
    "    return np.linalg.norm(a - b)\n",
    "\n",
    "euclidean_distance_np(val[0],val[1])"
   ]
  },
  {
   "cell_type": "code",
   "execution_count": 4,
   "id": "429bc137-67ee-4043-8b97-0cbeb0f2f192",
   "metadata": {},
   "outputs": [
    {
     "name": "stdout",
     "output_type": "stream",
     "text": [
      "distance between [2 5], [3 6] is: 1.4142135623730951\n",
      "distance between [2 5], [ 7 10] is: 7.0710678118654755\n",
      "distance between [2 5], [12 10] is: 11.180339887498949\n",
      "distance between [2 5], [6 3] is: 4.47213595499958\n",
      "distance between [2 5], [10 20] is: 17.0\n",
      "distance between [3 6], [ 7 10] is: 5.656854249492381\n",
      "distance between [3 6], [12 10] is: 9.848857801796104\n",
      "distance between [3 6], [6 3] is: 4.242640687119285\n",
      "distance between [3 6], [10 20] is: 15.652475842498529\n",
      "distance between [ 7 10], [12 10] is: 5.0\n",
      "distance between [ 7 10], [6 3] is: 7.0710678118654755\n",
      "distance between [ 7 10], [10 20] is: 10.44030650891055\n",
      "distance between [12 10], [6 3] is: 9.219544457292887\n",
      "distance between [12 10], [10 20] is: 10.198039027185569\n",
      "distance between [6 3], [10 20] is: 17.46424919657298\n"
     ]
    }
   ],
   "source": [
    "data=np.array([[2,5],[3,6],[7,10],[12,10],[6,3],[10,20]])\n",
    "for i in range(len(data)):\n",
    "    for j in range(i + 1, len(data)):\n",
    "        print(f\"distance between {data[i]}, {data[j]} is:\",euclidean_distance_np(data[i], data[j]))"
   ]
  },
  {
   "cell_type": "code",
   "execution_count": 22,
   "id": "6f305133-b7f1-4924-b1f1-107e8dcb2750",
   "metadata": {},
   "outputs": [],
   "source": [
    "data=np.array([[2,5],[3,6],[7,10],[12,10],[6,3],[10,20]])\n",
    "def calculate_distance_matrix(data):\n",
    "    n = len(data)\n",
    "    distance_matrix = np.zeros((n, n))\n",
    "    for i in range(n):\n",
    "        for j in range(i + 1, n):\n",
    "            distance_matrix[i, j] = euclidean_distance(data[i], data[j])\n",
    "            distance_matrix[j, i] = distance_matrix[i, j]\n",
    "    return distance_matrix"
   ]
  },
  {
   "cell_type": "code",
   "execution_count": 23,
   "id": "a6b27f6d-72f4-4118-bb25-e77afe9009a9",
   "metadata": {},
   "outputs": [
    {
     "data": {
      "text/plain": [
       "array([[ 0.        ,  1.41421356,  7.07106781, 11.18033989,  4.47213595,\n",
       "        17.        ],\n",
       "       [ 1.41421356,  0.        ,  5.65685425,  9.8488578 ,  4.24264069,\n",
       "        15.65247584],\n",
       "       [ 7.07106781,  5.65685425,  0.        ,  5.        ,  7.07106781,\n",
       "        10.44030651],\n",
       "       [11.18033989,  9.8488578 ,  5.        ,  0.        ,  9.21954446,\n",
       "        10.19803903],\n",
       "       [ 4.47213595,  4.24264069,  7.07106781,  9.21954446,  0.        ,\n",
       "        17.4642492 ],\n",
       "       [17.        , 15.65247584, 10.44030651, 10.19803903, 17.4642492 ,\n",
       "         0.        ]])"
      ]
     },
     "execution_count": 23,
     "metadata": {},
     "output_type": "execute_result"
    }
   ],
   "source": [
    "distance_matrix=calculate_distance_matrix(data)\n",
    "distance_matrix"
   ]
  },
  {
   "cell_type": "code",
   "execution_count": 24,
   "id": "6f445add-44c9-4ae8-bfae-116542cb4af4",
   "metadata": {},
   "outputs": [
    {
     "data": {
      "text/plain": [
       "array([[ 0.        ,  1.        ,  1.41421356,  2.        ],\n",
       "       [ 4.        ,  6.        ,  4.24264069,  3.        ],\n",
       "       [ 2.        ,  3.        ,  5.        ,  2.        ],\n",
       "       [ 7.        ,  8.        ,  5.65685425,  5.        ],\n",
       "       [ 5.        ,  9.        , 10.19803903,  6.        ]])"
      ]
     },
     "execution_count": 24,
     "metadata": {},
     "output_type": "execute_result"
    }
   ],
   "source": [
    "import scipy.cluster.hierarchy as sch\n",
    "val=[[2,5],[3,6],[7,10],[12,10],[6,3],[10,20]]\n",
    "sch.linkage(val)"
   ]
  },
  {
   "cell_type": "code",
   "execution_count": 25,
   "id": "b07d08c7-7d04-4eb1-a95a-e8a14c2d77a0",
   "metadata": {},
   "outputs": [],
   "source": [
    "# c_0=[2,5],\n",
    "# c_1=[3,6],\n",
    "# c_2=[7,10],\n",
    "# c_3=[12,10],\n",
    "# c_4=[6,3],\n",
    "# c_5=[10,20]\n",
    "\n",
    "# total 6 individual cluster in python index starts with zero\n",
    "\n",
    "# The minimum distance between c_0 with c_1 : [2,5] with [3,6] is: 1.41421356\n",
    "\n",
    "# so 0 and 1 are form cluster\n",
    "\n",
    "# second minimum distance between c_1 with c_4 :[3 6], with [6 3] is: 4.242640687119285\n",
    "\n",
    "# so A new line from {0 and 1}:6 combine with 4 \n",
    "\n",
    "# Third minimum distance between c_2 with c_3 [ 7 10], [12 10] is: 5.0\n",
    "\n",
    "# so 2 and 3 forms a cluster\n",
    "\n",
    "# Fourth minimum distance is between c_1 with c_2 [3 6], [ 7 10] is: 5.656854249492381\n",
    "\n",
    "# already 0,1,4 form a clsuter and 2,3 form a cluster\n",
    "\n",
    "# so a new line come from 0,1,4 and another line come from 2,3 and form a cluster"
   ]
  },
  {
   "cell_type": "code",
   "execution_count": 26,
   "id": "0ec48e39-e239-460c-b6e4-4c7b85f59ba8",
   "metadata": {},
   "outputs": [
    {
     "data": {
      "image/png": "[encoded data removed]",
      "text/plain": [
       "<Figure size 640x480 with 1 Axes>"
      ]
     },
     "metadata": {},
     "output_type": "display_data"
    }
   ],
   "source": [
    "import matplotlib.pyplot as plt\n",
    "dendogram=sch.dendrogram(sch.linkage(val,method='single'))\n",
    "plt.title(\"Dendrogram\")\n",
    "plt.xlabel(\"Customers\")\n",
    "plt.ylabel(\"Distance\")\n",
    "plt.show()\n"
   ]
  },
  {
   "cell_type": "code",
   "execution_count": null,
   "id": "76c4b09a-1d62-48a3-afdc-67c63708e01b",
   "metadata": {},
   "outputs": [],
   "source": []
  }
 ],
 "metadata": {
  "kernelspec": {
   "display_name": "Python 3 (ipykernel)",
   "language": "python",
   "name": "python3"
  },
  "language_info": {
   "codemirror_mode": {
    "name": "ipython",
    "version": 3
   },
   "file_extension": ".py",
   "mimetype": "text/x-python",
   "name": "python",
   "nbconvert_exporter": "python",
   "pygments_lexer": "ipython3",
   "version": "3.11.7"
  }
 },
 "nbformat": 4,
 "nbformat_minor": 5
}
