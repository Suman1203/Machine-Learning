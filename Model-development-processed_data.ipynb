{
 "cells": [
  {
   "cell_type": "markdown",
   "id": "365b5ea2",
   "metadata": {},
   "source": [
    "**Import Packages**"
   ]
  },
  {
   "cell_type": "code",
   "execution_count": 7,
   "id": "c173a419",
   "metadata": {},
   "outputs": [],
   "source": [
    "import pandas as pd\n",
    "import numpy as np\n",
    "import matplotlib.pyplot as plt\n",
    "import seaborn as sns\n",
    "sns.set_theme(color_codes=True)             # To get diffent different colors\n",
    "pd.set_option('display.max_columns', None)  # To display the max columns\n",
    "from sklearn.model_selection import train_test_split\n",
    "from sklearn.metrics import accuracy_score,\\\n",
    "                            precision_score,\\\n",
    "                            recall_score,\\\n",
    "                            f1_score,\\\n",
    "                            classification_report,\\\n",
    "                            roc_auc_score,roc_curve,auc\n",
    "from sklearn.metrics import confusion_matrix,ConfusionMatrixDisplay"
   ]
  },
  {
   "cell_type": "code",
   "execution_count": null,
   "id": "1551b65f",
   "metadata": {},
   "outputs": [],
   "source": []
  },
  {
   "cell_type": "markdown",
   "id": "6b474033",
   "metadata": {},
   "source": [
    "**Read the preprocssed data**"
   ]
  },
  {
   "cell_type": "code",
   "execution_count": 2,
   "id": "df1c89a0",
   "metadata": {},
   "outputs": [
    {
     "data": {
      "text/html": [
       "<div>\n",
       "<style scoped>\n",
       "    .dataframe tbody tr th:only-of-type {\n",
       "        vertical-align: middle;\n",
       "    }\n",
       "\n",
       "    .dataframe tbody tr th {\n",
       "        vertical-align: top;\n",
       "    }\n",
       "\n",
       "    .dataframe thead th {\n",
       "        text-align: right;\n",
       "    }\n",
       "</style>\n",
       "<table border=\"1\" class=\"dataframe\">\n",
       "  <thead>\n",
       "    <tr style=\"text-align: right;\">\n",
       "      <th></th>\n",
       "      <th>Gender</th>\n",
       "      <th>Age</th>\n",
       "      <th>Married</th>\n",
       "      <th>Number of Dependents</th>\n",
       "      <th>Latitude</th>\n",
       "      <th>Longitude</th>\n",
       "      <th>Number of Referrals</th>\n",
       "      <th>Tenure in Months</th>\n",
       "      <th>Offer</th>\n",
       "      <th>Avg Monthly Long Distance Charges</th>\n",
       "      <th>Multiple Lines</th>\n",
       "      <th>Internet Type</th>\n",
       "      <th>Avg Monthly GB Download</th>\n",
       "      <th>Online Security</th>\n",
       "      <th>Online Backup</th>\n",
       "      <th>Device Protection Plan</th>\n",
       "      <th>Premium Tech Support</th>\n",
       "      <th>Streaming TV</th>\n",
       "      <th>Streaming Movies</th>\n",
       "      <th>Streaming Music</th>\n",
       "      <th>Unlimited Data</th>\n",
       "      <th>Contract</th>\n",
       "      <th>Paperless Billing</th>\n",
       "      <th>Payment Method</th>\n",
       "      <th>Monthly Charge</th>\n",
       "      <th>Total Charges</th>\n",
       "      <th>Total Refunds</th>\n",
       "      <th>Total Extra Data Charges</th>\n",
       "      <th>Total Long Distance Charges</th>\n",
       "      <th>Total Revenue</th>\n",
       "      <th>Customer Status</th>\n",
       "    </tr>\n",
       "  </thead>\n",
       "  <tbody>\n",
       "    <tr>\n",
       "      <th>0</th>\n",
       "      <td>0</td>\n",
       "      <td>37</td>\n",
       "      <td>1</td>\n",
       "      <td>0</td>\n",
       "      <td>34.827662</td>\n",
       "      <td>-118.999073</td>\n",
       "      <td>2</td>\n",
       "      <td>9</td>\n",
       "      <td>0</td>\n",
       "      <td>42.39</td>\n",
       "      <td>0</td>\n",
       "      <td>0</td>\n",
       "      <td>16</td>\n",
       "      <td>0</td>\n",
       "      <td>1</td>\n",
       "      <td>0</td>\n",
       "      <td>1</td>\n",
       "      <td>1</td>\n",
       "      <td>0</td>\n",
       "      <td>0</td>\n",
       "      <td>1</td>\n",
       "      <td>1</td>\n",
       "      <td>1</td>\n",
       "      <td>1</td>\n",
       "      <td>65.60</td>\n",
       "      <td>593.30</td>\n",
       "      <td>0.00</td>\n",
       "      <td>0</td>\n",
       "      <td>381.51</td>\n",
       "      <td>974.81</td>\n",
       "      <td>1</td>\n",
       "    </tr>\n",
       "    <tr>\n",
       "      <th>1</th>\n",
       "      <td>1</td>\n",
       "      <td>46</td>\n",
       "      <td>0</td>\n",
       "      <td>0</td>\n",
       "      <td>34.162515</td>\n",
       "      <td>-118.203869</td>\n",
       "      <td>0</td>\n",
       "      <td>9</td>\n",
       "      <td>0</td>\n",
       "      <td>10.69</td>\n",
       "      <td>1</td>\n",
       "      <td>0</td>\n",
       "      <td>10</td>\n",
       "      <td>0</td>\n",
       "      <td>0</td>\n",
       "      <td>0</td>\n",
       "      <td>0</td>\n",
       "      <td>0</td>\n",
       "      <td>1</td>\n",
       "      <td>1</td>\n",
       "      <td>0</td>\n",
       "      <td>0</td>\n",
       "      <td>0</td>\n",
       "      <td>1</td>\n",
       "      <td>-4.00</td>\n",
       "      <td>542.40</td>\n",
       "      <td>38.33</td>\n",
       "      <td>10</td>\n",
       "      <td>96.21</td>\n",
       "      <td>610.28</td>\n",
       "      <td>1</td>\n",
       "    </tr>\n",
       "    <tr>\n",
       "      <th>2</th>\n",
       "      <td>1</td>\n",
       "      <td>50</td>\n",
       "      <td>0</td>\n",
       "      <td>0</td>\n",
       "      <td>33.645672</td>\n",
       "      <td>-117.922613</td>\n",
       "      <td>0</td>\n",
       "      <td>4</td>\n",
       "      <td>5</td>\n",
       "      <td>33.65</td>\n",
       "      <td>0</td>\n",
       "      <td>2</td>\n",
       "      <td>30</td>\n",
       "      <td>0</td>\n",
       "      <td>0</td>\n",
       "      <td>1</td>\n",
       "      <td>0</td>\n",
       "      <td>0</td>\n",
       "      <td>0</td>\n",
       "      <td>0</td>\n",
       "      <td>1</td>\n",
       "      <td>0</td>\n",
       "      <td>1</td>\n",
       "      <td>0</td>\n",
       "      <td>73.90</td>\n",
       "      <td>280.85</td>\n",
       "      <td>0.00</td>\n",
       "      <td>0</td>\n",
       "      <td>134.60</td>\n",
       "      <td>415.45</td>\n",
       "      <td>0</td>\n",
       "    </tr>\n",
       "    <tr>\n",
       "      <th>3</th>\n",
       "      <td>1</td>\n",
       "      <td>78</td>\n",
       "      <td>1</td>\n",
       "      <td>0</td>\n",
       "      <td>38.014457</td>\n",
       "      <td>-122.115432</td>\n",
       "      <td>1</td>\n",
       "      <td>13</td>\n",
       "      <td>4</td>\n",
       "      <td>27.82</td>\n",
       "      <td>0</td>\n",
       "      <td>2</td>\n",
       "      <td>4</td>\n",
       "      <td>0</td>\n",
       "      <td>1</td>\n",
       "      <td>1</td>\n",
       "      <td>0</td>\n",
       "      <td>1</td>\n",
       "      <td>1</td>\n",
       "      <td>0</td>\n",
       "      <td>1</td>\n",
       "      <td>0</td>\n",
       "      <td>1</td>\n",
       "      <td>0</td>\n",
       "      <td>98.00</td>\n",
       "      <td>1237.85</td>\n",
       "      <td>0.00</td>\n",
       "      <td>0</td>\n",
       "      <td>361.66</td>\n",
       "      <td>1599.51</td>\n",
       "      <td>0</td>\n",
       "    </tr>\n",
       "    <tr>\n",
       "      <th>4</th>\n",
       "      <td>0</td>\n",
       "      <td>75</td>\n",
       "      <td>1</td>\n",
       "      <td>0</td>\n",
       "      <td>34.227846</td>\n",
       "      <td>-119.079903</td>\n",
       "      <td>3</td>\n",
       "      <td>3</td>\n",
       "      <td>0</td>\n",
       "      <td>7.38</td>\n",
       "      <td>0</td>\n",
       "      <td>2</td>\n",
       "      <td>11</td>\n",
       "      <td>0</td>\n",
       "      <td>0</td>\n",
       "      <td>0</td>\n",
       "      <td>1</td>\n",
       "      <td>1</td>\n",
       "      <td>0</td>\n",
       "      <td>0</td>\n",
       "      <td>1</td>\n",
       "      <td>0</td>\n",
       "      <td>1</td>\n",
       "      <td>1</td>\n",
       "      <td>83.90</td>\n",
       "      <td>267.40</td>\n",
       "      <td>0.00</td>\n",
       "      <td>0</td>\n",
       "      <td>22.14</td>\n",
       "      <td>289.54</td>\n",
       "      <td>0</td>\n",
       "    </tr>\n",
       "    <tr>\n",
       "      <th>...</th>\n",
       "      <td>...</td>\n",
       "      <td>...</td>\n",
       "      <td>...</td>\n",
       "      <td>...</td>\n",
       "      <td>...</td>\n",
       "      <td>...</td>\n",
       "      <td>...</td>\n",
       "      <td>...</td>\n",
       "      <td>...</td>\n",
       "      <td>...</td>\n",
       "      <td>...</td>\n",
       "      <td>...</td>\n",
       "      <td>...</td>\n",
       "      <td>...</td>\n",
       "      <td>...</td>\n",
       "      <td>...</td>\n",
       "      <td>...</td>\n",
       "      <td>...</td>\n",
       "      <td>...</td>\n",
       "      <td>...</td>\n",
       "      <td>...</td>\n",
       "      <td>...</td>\n",
       "      <td>...</td>\n",
       "      <td>...</td>\n",
       "      <td>...</td>\n",
       "      <td>...</td>\n",
       "      <td>...</td>\n",
       "      <td>...</td>\n",
       "      <td>...</td>\n",
       "      <td>...</td>\n",
       "      <td>...</td>\n",
       "    </tr>\n",
       "    <tr>\n",
       "      <th>4830</th>\n",
       "      <td>0</td>\n",
       "      <td>53</td>\n",
       "      <td>0</td>\n",
       "      <td>0</td>\n",
       "      <td>36.807595</td>\n",
       "      <td>-118.901544</td>\n",
       "      <td>0</td>\n",
       "      <td>1</td>\n",
       "      <td>5</td>\n",
       "      <td>42.09</td>\n",
       "      <td>0</td>\n",
       "      <td>2</td>\n",
       "      <td>9</td>\n",
       "      <td>0</td>\n",
       "      <td>0</td>\n",
       "      <td>0</td>\n",
       "      <td>0</td>\n",
       "      <td>0</td>\n",
       "      <td>0</td>\n",
       "      <td>0</td>\n",
       "      <td>1</td>\n",
       "      <td>0</td>\n",
       "      <td>1</td>\n",
       "      <td>1</td>\n",
       "      <td>70.15</td>\n",
       "      <td>70.15</td>\n",
       "      <td>0.00</td>\n",
       "      <td>0</td>\n",
       "      <td>42.09</td>\n",
       "      <td>112.24</td>\n",
       "      <td>0</td>\n",
       "    </tr>\n",
       "    <tr>\n",
       "      <th>4831</th>\n",
       "      <td>0</td>\n",
       "      <td>20</td>\n",
       "      <td>0</td>\n",
       "      <td>0</td>\n",
       "      <td>32.759327</td>\n",
       "      <td>-116.997260</td>\n",
       "      <td>0</td>\n",
       "      <td>13</td>\n",
       "      <td>4</td>\n",
       "      <td>46.68</td>\n",
       "      <td>0</td>\n",
       "      <td>1</td>\n",
       "      <td>59</td>\n",
       "      <td>1</td>\n",
       "      <td>0</td>\n",
       "      <td>0</td>\n",
       "      <td>1</td>\n",
       "      <td>0</td>\n",
       "      <td>0</td>\n",
       "      <td>1</td>\n",
       "      <td>1</td>\n",
       "      <td>1</td>\n",
       "      <td>0</td>\n",
       "      <td>1</td>\n",
       "      <td>55.15</td>\n",
       "      <td>742.90</td>\n",
       "      <td>0.00</td>\n",
       "      <td>0</td>\n",
       "      <td>606.84</td>\n",
       "      <td>1349.74</td>\n",
       "      <td>1</td>\n",
       "    </tr>\n",
       "    <tr>\n",
       "      <th>4832</th>\n",
       "      <td>1</td>\n",
       "      <td>40</td>\n",
       "      <td>1</td>\n",
       "      <td>0</td>\n",
       "      <td>37.734971</td>\n",
       "      <td>-120.954271</td>\n",
       "      <td>1</td>\n",
       "      <td>22</td>\n",
       "      <td>4</td>\n",
       "      <td>16.20</td>\n",
       "      <td>1</td>\n",
       "      <td>2</td>\n",
       "      <td>17</td>\n",
       "      <td>0</td>\n",
       "      <td>0</td>\n",
       "      <td>0</td>\n",
       "      <td>0</td>\n",
       "      <td>0</td>\n",
       "      <td>1</td>\n",
       "      <td>1</td>\n",
       "      <td>1</td>\n",
       "      <td>0</td>\n",
       "      <td>1</td>\n",
       "      <td>0</td>\n",
       "      <td>85.10</td>\n",
       "      <td>1873.70</td>\n",
       "      <td>0.00</td>\n",
       "      <td>0</td>\n",
       "      <td>356.40</td>\n",
       "      <td>2230.10</td>\n",
       "      <td>0</td>\n",
       "    </tr>\n",
       "    <tr>\n",
       "      <th>4833</th>\n",
       "      <td>1</td>\n",
       "      <td>22</td>\n",
       "      <td>0</td>\n",
       "      <td>0</td>\n",
       "      <td>39.108252</td>\n",
       "      <td>-123.645121</td>\n",
       "      <td>0</td>\n",
       "      <td>2</td>\n",
       "      <td>5</td>\n",
       "      <td>18.62</td>\n",
       "      <td>0</td>\n",
       "      <td>1</td>\n",
       "      <td>51</td>\n",
       "      <td>0</td>\n",
       "      <td>1</td>\n",
       "      <td>0</td>\n",
       "      <td>0</td>\n",
       "      <td>0</td>\n",
       "      <td>0</td>\n",
       "      <td>0</td>\n",
       "      <td>1</td>\n",
       "      <td>0</td>\n",
       "      <td>1</td>\n",
       "      <td>1</td>\n",
       "      <td>50.30</td>\n",
       "      <td>92.75</td>\n",
       "      <td>0.00</td>\n",
       "      <td>0</td>\n",
       "      <td>37.24</td>\n",
       "      <td>129.99</td>\n",
       "      <td>1</td>\n",
       "    </tr>\n",
       "    <tr>\n",
       "      <th>4834</th>\n",
       "      <td>1</td>\n",
       "      <td>21</td>\n",
       "      <td>1</td>\n",
       "      <td>0</td>\n",
       "      <td>33.001813</td>\n",
       "      <td>-117.263628</td>\n",
       "      <td>5</td>\n",
       "      <td>67</td>\n",
       "      <td>1</td>\n",
       "      <td>2.12</td>\n",
       "      <td>0</td>\n",
       "      <td>0</td>\n",
       "      <td>58</td>\n",
       "      <td>1</td>\n",
       "      <td>0</td>\n",
       "      <td>1</td>\n",
       "      <td>1</td>\n",
       "      <td>0</td>\n",
       "      <td>1</td>\n",
       "      <td>1</td>\n",
       "      <td>1</td>\n",
       "      <td>2</td>\n",
       "      <td>0</td>\n",
       "      <td>1</td>\n",
       "      <td>67.85</td>\n",
       "      <td>4627.65</td>\n",
       "      <td>0.00</td>\n",
       "      <td>0</td>\n",
       "      <td>142.04</td>\n",
       "      <td>4769.69</td>\n",
       "      <td>1</td>\n",
       "    </tr>\n",
       "  </tbody>\n",
       "</table>\n",
       "<p>4835 rows × 31 columns</p>\n",
       "</div>"
      ],
      "text/plain": [
       "      Gender  Age  Married  Number of Dependents   Latitude   Longitude  \\\n",
       "0          0   37        1                     0  34.827662 -118.999073   \n",
       "1          1   46        0                     0  34.162515 -118.203869   \n",
       "2          1   50        0                     0  33.645672 -117.922613   \n",
       "3          1   78        1                     0  38.014457 -122.115432   \n",
       "4          0   75        1                     0  34.227846 -119.079903   \n",
       "...      ...  ...      ...                   ...        ...         ...   \n",
       "4830       0   53        0                     0  36.807595 -118.901544   \n",
       "4831       0   20        0                     0  32.759327 -116.997260   \n",
       "4832       1   40        1                     0  37.734971 -120.954271   \n",
       "4833       1   22        0                     0  39.108252 -123.645121   \n",
       "4834       1   21        1                     0  33.001813 -117.263628   \n",
       "\n",
       "      Number of Referrals  Tenure in Months  Offer  \\\n",
       "0                       2                 9      0   \n",
       "1                       0                 9      0   \n",
       "2                       0                 4      5   \n",
       "3                       1                13      4   \n",
       "4                       3                 3      0   \n",
       "...                   ...               ...    ...   \n",
       "4830                    0                 1      5   \n",
       "4831                    0                13      4   \n",
       "4832                    1                22      4   \n",
       "4833                    0                 2      5   \n",
       "4834                    5                67      1   \n",
       "\n",
       "      Avg Monthly Long Distance Charges  Multiple Lines  Internet Type  \\\n",
       "0                                 42.39               0              0   \n",
       "1                                 10.69               1              0   \n",
       "2                                 33.65               0              2   \n",
       "3                                 27.82               0              2   \n",
       "4                                  7.38               0              2   \n",
       "...                                 ...             ...            ...   \n",
       "4830                              42.09               0              2   \n",
       "4831                              46.68               0              1   \n",
       "4832                              16.20               1              2   \n",
       "4833                              18.62               0              1   \n",
       "4834                               2.12               0              0   \n",
       "\n",
       "      Avg Monthly GB Download  Online Security  Online Backup  \\\n",
       "0                          16                0              1   \n",
       "1                          10                0              0   \n",
       "2                          30                0              0   \n",
       "3                           4                0              1   \n",
       "4                          11                0              0   \n",
       "...                       ...              ...            ...   \n",
       "4830                        9                0              0   \n",
       "4831                       59                1              0   \n",
       "4832                       17                0              0   \n",
       "4833                       51                0              1   \n",
       "4834                       58                1              0   \n",
       "\n",
       "      Device Protection Plan  Premium Tech Support  Streaming TV  \\\n",
       "0                          0                     1             1   \n",
       "1                          0                     0             0   \n",
       "2                          1                     0             0   \n",
       "3                          1                     0             1   \n",
       "4                          0                     1             1   \n",
       "...                      ...                   ...           ...   \n",
       "4830                       0                     0             0   \n",
       "4831                       0                     1             0   \n",
       "4832                       0                     0             0   \n",
       "4833                       0                     0             0   \n",
       "4834                       1                     1             0   \n",
       "\n",
       "      Streaming Movies  Streaming Music  Unlimited Data  Contract  \\\n",
       "0                    0                0               1         1   \n",
       "1                    1                1               0         0   \n",
       "2                    0                0               1         0   \n",
       "3                    1                0               1         0   \n",
       "4                    0                0               1         0   \n",
       "...                ...              ...             ...       ...   \n",
       "4830                 0                0               1         0   \n",
       "4831                 0                1               1         1   \n",
       "4832                 1                1               1         0   \n",
       "4833                 0                0               1         0   \n",
       "4834                 1                1               1         2   \n",
       "\n",
       "      Paperless Billing  Payment Method  Monthly Charge  Total Charges  \\\n",
       "0                     1               1           65.60         593.30   \n",
       "1                     0               1           -4.00         542.40   \n",
       "2                     1               0           73.90         280.85   \n",
       "3                     1               0           98.00        1237.85   \n",
       "4                     1               1           83.90         267.40   \n",
       "...                 ...             ...             ...            ...   \n",
       "4830                  1               1           70.15          70.15   \n",
       "4831                  0               1           55.15         742.90   \n",
       "4832                  1               0           85.10        1873.70   \n",
       "4833                  1               1           50.30          92.75   \n",
       "4834                  0               1           67.85        4627.65   \n",
       "\n",
       "      Total Refunds  Total Extra Data Charges  Total Long Distance Charges  \\\n",
       "0              0.00                         0                       381.51   \n",
       "1             38.33                        10                        96.21   \n",
       "2              0.00                         0                       134.60   \n",
       "3              0.00                         0                       361.66   \n",
       "4              0.00                         0                        22.14   \n",
       "...             ...                       ...                          ...   \n",
       "4830           0.00                         0                        42.09   \n",
       "4831           0.00                         0                       606.84   \n",
       "4832           0.00                         0                       356.40   \n",
       "4833           0.00                         0                        37.24   \n",
       "4834           0.00                         0                       142.04   \n",
       "\n",
       "      Total Revenue  Customer Status  \n",
       "0            974.81                1  \n",
       "1            610.28                1  \n",
       "2            415.45                0  \n",
       "3           1599.51                0  \n",
       "4            289.54                0  \n",
       "...             ...              ...  \n",
       "4830         112.24                0  \n",
       "4831        1349.74                1  \n",
       "4832        2230.10                0  \n",
       "4833         129.99                1  \n",
       "4834        4769.69                1  \n",
       "\n",
       "[4835 rows x 31 columns]"
      ]
     },
     "execution_count": 2,
     "metadata": {},
     "output_type": "execute_result"
    }
   ],
   "source": [
    "data=pd.read_csv(\"Preprocessed_data.csv\")\n",
    "data"
   ]
  },
  {
   "cell_type": "markdown",
   "id": "8a0a3577",
   "metadata": {},
   "source": [
    "$Step-1$:\n",
    "\n",
    "**Divide data into input and target data**"
   ]
  },
  {
   "cell_type": "code",
   "execution_count": 3,
   "id": "d0e10416",
   "metadata": {},
   "outputs": [],
   "source": [
    "# Here the target column is Customer Status\n",
    "X = data.drop('Customer Status', axis=1)\n",
    "y = data['Customer Status']"
   ]
  },
  {
   "cell_type": "code",
   "execution_count": 4,
   "id": "510b7cff",
   "metadata": {},
   "outputs": [
    {
     "data": {
      "text/plain": [
       "((4835, 30), (4835,))"
      ]
     },
     "execution_count": 4,
     "metadata": {},
     "output_type": "execute_result"
    }
   ],
   "source": [
    "X.shape, y.shape"
   ]
  },
  {
   "cell_type": "markdown",
   "id": "d511c338",
   "metadata": {},
   "source": [
    "$Step-2$:\n",
    "    \n",
    "**Train-Test-Split**"
   ]
  },
  {
   "cell_type": "code",
   "execution_count": 5,
   "id": "2edeeac5",
   "metadata": {},
   "outputs": [
    {
     "name": "stdout",
     "output_type": "stream",
     "text": [
      "(3868, 30)\n",
      "(967, 30)\n",
      "(3868,)\n",
      "(967,)\n"
     ]
    }
   ],
   "source": [
    "# test size=0.2 , train data 80% and test data 20%\n",
    "# random state=0 will split the data randomly\n",
    "\n",
    "X_train, X_test, y_train, y_test = train_test_split(X,y, test_size=0.2,random_state=0)\n",
    "print(X_train.shape),\n",
    "print(X_test.shape),\n",
    "print(y_train.shape),\n",
    "print(y_test.shape)"
   ]
  },
  {
   "cell_type": "markdown",
   "id": "402376ed",
   "metadata": {},
   "source": [
    "$Step-3$:\n",
    "    \n",
    "**Removing the outliers using z-score**"
   ]
  },
  {
   "cell_type": "code",
   "execution_count": 6,
   "id": "410ededd",
   "metadata": {},
   "outputs": [],
   "source": [
    "from scipy import stats # All statistics related\n",
    "\n",
    "# Define the columns for which you want to remove outliers\n",
    "selected_columns = ['Number of Dependents', 'Avg Monthly GB Download', 'Total Refunds',\n",
    "                    'Total Extra Data Charges', 'Total Long Distance Charges', 'Total Revenue']\n",
    "\n",
    "# Calculate the Z-scores for the selected columns in the training data\n",
    "z_scores = np.abs(stats.zscore(X_train[selected_columns]))\n",
    "\n",
    "# Set a threshold value for outlier detection (e.g., 3)\n",
    "threshold = 3\n",
    "\n",
    "# Find the indices of outliers based on the threshold\n",
    "outlier_indices = np.where(z_scores > threshold)[0]\n",
    "\n",
    "# Remove the outliers from the training data\n",
    "X_train = X_train.drop(X_train.index[outlier_indices])\n",
    "y_train = y_train.drop(y_train.index[outlier_indices])"
   ]
  },
  {
   "cell_type": "code",
   "execution_count": 7,
   "id": "12dd6bfb",
   "metadata": {},
   "outputs": [
    {
     "data": {
      "text/html": [
       "<div>\n",
       "<style scoped>\n",
       "    .dataframe tbody tr th:only-of-type {\n",
       "        vertical-align: middle;\n",
       "    }\n",
       "\n",
       "    .dataframe tbody tr th {\n",
       "        vertical-align: top;\n",
       "    }\n",
       "\n",
       "    .dataframe thead th {\n",
       "        text-align: right;\n",
       "    }\n",
       "</style>\n",
       "<table border=\"1\" class=\"dataframe\">\n",
       "  <thead>\n",
       "    <tr style=\"text-align: right;\">\n",
       "      <th></th>\n",
       "      <th>Gender</th>\n",
       "      <th>Age</th>\n",
       "      <th>Married</th>\n",
       "      <th>Number of Dependents</th>\n",
       "      <th>Latitude</th>\n",
       "      <th>Longitude</th>\n",
       "      <th>Number of Referrals</th>\n",
       "      <th>Tenure in Months</th>\n",
       "      <th>Offer</th>\n",
       "      <th>Avg Monthly Long Distance Charges</th>\n",
       "      <th>Multiple Lines</th>\n",
       "      <th>Internet Type</th>\n",
       "      <th>Avg Monthly GB Download</th>\n",
       "      <th>Online Security</th>\n",
       "      <th>Online Backup</th>\n",
       "      <th>Device Protection Plan</th>\n",
       "      <th>Premium Tech Support</th>\n",
       "      <th>Streaming TV</th>\n",
       "      <th>Streaming Movies</th>\n",
       "      <th>Streaming Music</th>\n",
       "      <th>Unlimited Data</th>\n",
       "      <th>Contract</th>\n",
       "      <th>Paperless Billing</th>\n",
       "      <th>Payment Method</th>\n",
       "      <th>Monthly Charge</th>\n",
       "      <th>Total Charges</th>\n",
       "      <th>Total Refunds</th>\n",
       "      <th>Total Extra Data Charges</th>\n",
       "      <th>Total Long Distance Charges</th>\n",
       "      <th>Total Revenue</th>\n",
       "    </tr>\n",
       "  </thead>\n",
       "  <tbody>\n",
       "    <tr>\n",
       "      <th>3739</th>\n",
       "      <td>1</td>\n",
       "      <td>71</td>\n",
       "      <td>1</td>\n",
       "      <td>0</td>\n",
       "      <td>33.902211</td>\n",
       "      <td>-117.914922</td>\n",
       "      <td>0</td>\n",
       "      <td>21</td>\n",
       "      <td>0</td>\n",
       "      <td>22.30</td>\n",
       "      <td>0</td>\n",
       "      <td>2</td>\n",
       "      <td>9</td>\n",
       "      <td>0</td>\n",
       "      <td>0</td>\n",
       "      <td>1</td>\n",
       "      <td>0</td>\n",
       "      <td>1</td>\n",
       "      <td>0</td>\n",
       "      <td>0</td>\n",
       "      <td>1</td>\n",
       "      <td>0</td>\n",
       "      <td>0</td>\n",
       "      <td>0</td>\n",
       "      <td>86.55</td>\n",
       "      <td>1857.25</td>\n",
       "      <td>0.0</td>\n",
       "      <td>0</td>\n",
       "      <td>468.30</td>\n",
       "      <td>2325.55</td>\n",
       "    </tr>\n",
       "    <tr>\n",
       "      <th>1551</th>\n",
       "      <td>1</td>\n",
       "      <td>21</td>\n",
       "      <td>0</td>\n",
       "      <td>0</td>\n",
       "      <td>37.587494</td>\n",
       "      <td>-121.862856</td>\n",
       "      <td>0</td>\n",
       "      <td>2</td>\n",
       "      <td>0</td>\n",
       "      <td>23.52</td>\n",
       "      <td>0</td>\n",
       "      <td>1</td>\n",
       "      <td>48</td>\n",
       "      <td>0</td>\n",
       "      <td>0</td>\n",
       "      <td>0</td>\n",
       "      <td>1</td>\n",
       "      <td>1</td>\n",
       "      <td>1</td>\n",
       "      <td>1</td>\n",
       "      <td>1</td>\n",
       "      <td>0</td>\n",
       "      <td>0</td>\n",
       "      <td>0</td>\n",
       "      <td>-8.00</td>\n",
       "      <td>132.40</td>\n",
       "      <td>0.0</td>\n",
       "      <td>0</td>\n",
       "      <td>47.04</td>\n",
       "      <td>179.44</td>\n",
       "    </tr>\n",
       "    <tr>\n",
       "      <th>1389</th>\n",
       "      <td>0</td>\n",
       "      <td>45</td>\n",
       "      <td>0</td>\n",
       "      <td>3</td>\n",
       "      <td>34.255203</td>\n",
       "      <td>-117.175654</td>\n",
       "      <td>0</td>\n",
       "      <td>18</td>\n",
       "      <td>4</td>\n",
       "      <td>42.45</td>\n",
       "      <td>1</td>\n",
       "      <td>1</td>\n",
       "      <td>28</td>\n",
       "      <td>1</td>\n",
       "      <td>0</td>\n",
       "      <td>0</td>\n",
       "      <td>0</td>\n",
       "      <td>0</td>\n",
       "      <td>1</td>\n",
       "      <td>1</td>\n",
       "      <td>1</td>\n",
       "      <td>0</td>\n",
       "      <td>0</td>\n",
       "      <td>0</td>\n",
       "      <td>64.80</td>\n",
       "      <td>1166.70</td>\n",
       "      <td>0.0</td>\n",
       "      <td>0</td>\n",
       "      <td>764.10</td>\n",
       "      <td>1930.80</td>\n",
       "    </tr>\n",
       "    <tr>\n",
       "      <th>2947</th>\n",
       "      <td>1</td>\n",
       "      <td>33</td>\n",
       "      <td>0</td>\n",
       "      <td>0</td>\n",
       "      <td>32.957195</td>\n",
       "      <td>-117.202542</td>\n",
       "      <td>0</td>\n",
       "      <td>30</td>\n",
       "      <td>0</td>\n",
       "      <td>30.06</td>\n",
       "      <td>0</td>\n",
       "      <td>2</td>\n",
       "      <td>19</td>\n",
       "      <td>0</td>\n",
       "      <td>0</td>\n",
       "      <td>0</td>\n",
       "      <td>0</td>\n",
       "      <td>1</td>\n",
       "      <td>1</td>\n",
       "      <td>1</td>\n",
       "      <td>1</td>\n",
       "      <td>0</td>\n",
       "      <td>1</td>\n",
       "      <td>0</td>\n",
       "      <td>90.25</td>\n",
       "      <td>2755.35</td>\n",
       "      <td>0.0</td>\n",
       "      <td>0</td>\n",
       "      <td>901.80</td>\n",
       "      <td>3657.15</td>\n",
       "    </tr>\n",
       "    <tr>\n",
       "      <th>2620</th>\n",
       "      <td>1</td>\n",
       "      <td>26</td>\n",
       "      <td>0</td>\n",
       "      <td>0</td>\n",
       "      <td>37.249377</td>\n",
       "      <td>-120.249581</td>\n",
       "      <td>0</td>\n",
       "      <td>37</td>\n",
       "      <td>3</td>\n",
       "      <td>38.72</td>\n",
       "      <td>1</td>\n",
       "      <td>2</td>\n",
       "      <td>59</td>\n",
       "      <td>0</td>\n",
       "      <td>1</td>\n",
       "      <td>0</td>\n",
       "      <td>1</td>\n",
       "      <td>1</td>\n",
       "      <td>1</td>\n",
       "      <td>1</td>\n",
       "      <td>1</td>\n",
       "      <td>1</td>\n",
       "      <td>1</td>\n",
       "      <td>1</td>\n",
       "      <td>104.50</td>\n",
       "      <td>3778.00</td>\n",
       "      <td>0.0</td>\n",
       "      <td>0</td>\n",
       "      <td>1432.64</td>\n",
       "      <td>5210.64</td>\n",
       "    </tr>\n",
       "  </tbody>\n",
       "</table>\n",
       "</div>"
      ],
      "text/plain": [
       "      Gender  Age  Married  Number of Dependents   Latitude   Longitude  \\\n",
       "3739       1   71        1                     0  33.902211 -117.914922   \n",
       "1551       1   21        0                     0  37.587494 -121.862856   \n",
       "1389       0   45        0                     3  34.255203 -117.175654   \n",
       "2947       1   33        0                     0  32.957195 -117.202542   \n",
       "2620       1   26        0                     0  37.249377 -120.249581   \n",
       "\n",
       "      Number of Referrals  Tenure in Months  Offer  \\\n",
       "3739                    0                21      0   \n",
       "1551                    0                 2      0   \n",
       "1389                    0                18      4   \n",
       "2947                    0                30      0   \n",
       "2620                    0                37      3   \n",
       "\n",
       "      Avg Monthly Long Distance Charges  Multiple Lines  Internet Type  \\\n",
       "3739                              22.30               0              2   \n",
       "1551                              23.52               0              1   \n",
       "1389                              42.45               1              1   \n",
       "2947                              30.06               0              2   \n",
       "2620                              38.72               1              2   \n",
       "\n",
       "      Avg Monthly GB Download  Online Security  Online Backup  \\\n",
       "3739                        9                0              0   \n",
       "1551                       48                0              0   \n",
       "1389                       28                1              0   \n",
       "2947                       19                0              0   \n",
       "2620                       59                0              1   \n",
       "\n",
       "      Device Protection Plan  Premium Tech Support  Streaming TV  \\\n",
       "3739                       1                     0             1   \n",
       "1551                       0                     1             1   \n",
       "1389                       0                     0             0   \n",
       "2947                       0                     0             1   \n",
       "2620                       0                     1             1   \n",
       "\n",
       "      Streaming Movies  Streaming Music  Unlimited Data  Contract  \\\n",
       "3739                 0                0               1         0   \n",
       "1551                 1                1               1         0   \n",
       "1389                 1                1               1         0   \n",
       "2947                 1                1               1         0   \n",
       "2620                 1                1               1         1   \n",
       "\n",
       "      Paperless Billing  Payment Method  Monthly Charge  Total Charges  \\\n",
       "3739                  0               0           86.55        1857.25   \n",
       "1551                  0               0           -8.00         132.40   \n",
       "1389                  0               0           64.80        1166.70   \n",
       "2947                  1               0           90.25        2755.35   \n",
       "2620                  1               1          104.50        3778.00   \n",
       "\n",
       "      Total Refunds  Total Extra Data Charges  Total Long Distance Charges  \\\n",
       "3739            0.0                         0                       468.30   \n",
       "1551            0.0                         0                        47.04   \n",
       "1389            0.0                         0                       764.10   \n",
       "2947            0.0                         0                       901.80   \n",
       "2620            0.0                         0                      1432.64   \n",
       "\n",
       "      Total Revenue  \n",
       "3739        2325.55  \n",
       "1551         179.44  \n",
       "1389        1930.80  \n",
       "2947        3657.15  \n",
       "2620        5210.64  "
      ]
     },
     "execution_count": 7,
     "metadata": {},
     "output_type": "execute_result"
    }
   ],
   "source": [
    "X_train.head()"
   ]
  },
  {
   "cell_type": "markdown",
   "id": "f02059d2",
   "metadata": {},
   "source": [
    "## With out hyperparameter tuning"
   ]
  },
  {
   "cell_type": "markdown",
   "id": "32daa2ee",
   "metadata": {},
   "source": [
    "- Decision Tree\n",
    "\n",
    "- KNN\n",
    "\n",
    "- Naive Bayes\n",
    "\n",
    "- Logistic regression\n",
    "\n",
    "- Random forest"
   ]
  },
  {
   "cell_type": "code",
   "execution_count": null,
   "id": "7478f66e",
   "metadata": {},
   "outputs": [],
   "source": [
    "# We are not providing any parameters\n",
    "# We are using the default parameters"
   ]
  },
  {
   "cell_type": "code",
   "execution_count": 8,
   "id": "06a2598d",
   "metadata": {},
   "outputs": [
    {
     "data": {
      "text/html": [
       "<style>#sk-container-id-1 {color: black;background-color: white;}#sk-container-id-1 pre{padding: 0;}#sk-container-id-1 div.sk-toggleable {background-color: white;}#sk-container-id-1 label.sk-toggleable__label {cursor: pointer;display: block;width: 100%;margin-bottom: 0;padding: 0.3em;box-sizing: border-box;text-align: center;}#sk-container-id-1 label.sk-toggleable__label-arrow:before {content: \"▸\";float: left;margin-right: 0.25em;color: #696969;}#sk-container-id-1 label.sk-toggleable__label-arrow:hover:before {color: black;}#sk-container-id-1 div.sk-estimator:hover label.sk-toggleable__label-arrow:before {color: black;}#sk-container-id-1 div.sk-toggleable__content {max-height: 0;max-width: 0;overflow: hidden;text-align: left;background-color: #f0f8ff;}#sk-container-id-1 div.sk-toggleable__content pre {margin: 0.2em;color: black;border-radius: 0.25em;background-color: #f0f8ff;}#sk-container-id-1 input.sk-toggleable__control:checked~div.sk-toggleable__content {max-height: 200px;max-width: 100%;overflow: auto;}#sk-container-id-1 input.sk-toggleable__control:checked~label.sk-toggleable__label-arrow:before {content: \"▾\";}#sk-container-id-1 div.sk-estimator input.sk-toggleable__control:checked~label.sk-toggleable__label {background-color: #d4ebff;}#sk-container-id-1 div.sk-label input.sk-toggleable__control:checked~label.sk-toggleable__label {background-color: #d4ebff;}#sk-container-id-1 input.sk-hidden--visually {border: 0;clip: rect(1px 1px 1px 1px);clip: rect(1px, 1px, 1px, 1px);height: 1px;margin: -1px;overflow: hidden;padding: 0;position: absolute;width: 1px;}#sk-container-id-1 div.sk-estimator {font-family: monospace;background-color: #f0f8ff;border: 1px dotted black;border-radius: 0.25em;box-sizing: border-box;margin-bottom: 0.5em;}#sk-container-id-1 div.sk-estimator:hover {background-color: #d4ebff;}#sk-container-id-1 div.sk-parallel-item::after {content: \"\";width: 100%;border-bottom: 1px solid gray;flex-grow: 1;}#sk-container-id-1 div.sk-label:hover label.sk-toggleable__label {background-color: #d4ebff;}#sk-container-id-1 div.sk-serial::before {content: \"\";position: absolute;border-left: 1px solid gray;box-sizing: border-box;top: 0;bottom: 0;left: 50%;z-index: 0;}#sk-container-id-1 div.sk-serial {display: flex;flex-direction: column;align-items: center;background-color: white;padding-right: 0.2em;padding-left: 0.2em;position: relative;}#sk-container-id-1 div.sk-item {position: relative;z-index: 1;}#sk-container-id-1 div.sk-parallel {display: flex;align-items: stretch;justify-content: center;background-color: white;position: relative;}#sk-container-id-1 div.sk-item::before, #sk-container-id-1 div.sk-parallel-item::before {content: \"\";position: absolute;border-left: 1px solid gray;box-sizing: border-box;top: 0;bottom: 0;left: 50%;z-index: -1;}#sk-container-id-1 div.sk-parallel-item {display: flex;flex-direction: column;z-index: 1;position: relative;background-color: white;}#sk-container-id-1 div.sk-parallel-item:first-child::after {align-self: flex-end;width: 50%;}#sk-container-id-1 div.sk-parallel-item:last-child::after {align-self: flex-start;width: 50%;}#sk-container-id-1 div.sk-parallel-item:only-child::after {width: 0;}#sk-container-id-1 div.sk-dashed-wrapped {border: 1px dashed gray;margin: 0 0.4em 0.5em 0.4em;box-sizing: border-box;padding-bottom: 0.4em;background-color: white;}#sk-container-id-1 div.sk-label label {font-family: monospace;font-weight: bold;display: inline-block;line-height: 1.2em;}#sk-container-id-1 div.sk-label-container {text-align: center;}#sk-container-id-1 div.sk-container {/* jupyter's `normalize.less` sets `[hidden] { display: none; }` but bootstrap.min.css set `[hidden] { display: none !important; }` so we also need the `!important` here to be able to override the default hidden behavior on the sphinx rendered scikit-learn.org. See: https://github.com/scikit-learn/scikit-learn/issues/21755 */display: inline-block !important;position: relative;}#sk-container-id-1 div.sk-text-repr-fallback {display: none;}</style><div id=\"sk-container-id-1\" class=\"sk-top-container\"><div class=\"sk-text-repr-fallback\"><pre>DecisionTreeClassifier()</pre><b>In a Jupyter environment, please rerun this cell to show the HTML representation or trust the notebook. <br />On GitHub, the HTML representation is unable to render, please try loading this page with nbviewer.org.</b></div><div class=\"sk-container\" hidden><div class=\"sk-item\"><div class=\"sk-estimator sk-toggleable\"><input class=\"sk-toggleable__control sk-hidden--visually\" id=\"sk-estimator-id-1\" type=\"checkbox\" checked><label for=\"sk-estimator-id-1\" class=\"sk-toggleable__label sk-toggleable__label-arrow\">DecisionTreeClassifier</label><div class=\"sk-toggleable__content\"><pre>DecisionTreeClassifier()</pre></div></div></div></div></div>"
      ],
      "text/plain": [
       "DecisionTreeClassifier()"
      ]
     },
     "execution_count": 8,
     "metadata": {},
     "output_type": "execute_result"
    }
   ],
   "source": [
    "from sklearn.tree import DecisionTreeClassifier\n",
    "dtree=DecisionTreeClassifier()\n",
    "dtree.fit(X_train, y_train)"
   ]
  },
  {
   "cell_type": "code",
   "execution_count": 10,
   "id": "7cc16df8",
   "metadata": {},
   "outputs": [
    {
     "name": "stdout",
     "output_type": "stream",
     "text": [
      "[1 1 0 1 1 1 1 1 1 1 1 1 1 0 1 0 0 1 1 1]\n",
      "[1 1 1 0 1 1 1 0 1 1 1 1 1 1 1 0 1 0 1 1]\n"
     ]
    }
   ],
   "source": [
    "y_pred_dt=dtree.predict(X_test)\n",
    "print(y_pred_dt[:20])\n",
    "print(y_test.values[:20])"
   ]
  },
  {
   "cell_type": "code",
   "execution_count": 49,
   "id": "8dfce935",
   "metadata": {},
   "outputs": [
    {
     "data": {
      "text/plain": [
       "0.7362978283350569"
      ]
     },
     "execution_count": 49,
     "metadata": {},
     "output_type": "execute_result"
    }
   ],
   "source": [
    "accuracy_score(y_test,y_pred_dt)"
   ]
  },
  {
   "cell_type": "code",
   "execution_count": 53,
   "id": "0c2ea850",
   "metadata": {},
   "outputs": [
    {
     "data": {
      "text/plain": [
       "array([[205, 100],\n",
       "       [155, 507]], dtype=int64)"
      ]
     },
     "execution_count": 53,
     "metadata": {},
     "output_type": "execute_result"
    }
   ],
   "source": [
    "confusion_matrix(y_test,y_pred_dt)"
   ]
  },
  {
   "cell_type": "code",
   "execution_count": 56,
   "id": "d02eec6d",
   "metadata": {},
   "outputs": [
    {
     "name": "stdout",
     "output_type": "stream",
     "text": [
      "205 100 155 507\n",
      "0.7362978283350569\n",
      "0.8352553542009885\n",
      "0.7658610271903323\n",
      "0.7990543735224587\n"
     ]
    }
   ],
   "source": [
    "tn, fp, fn, tp=confusion_matrix(y_test,y_pred_dt).ravel()\n",
    "# TP=205  TN=507  FP=155  FN=100\n",
    "print(tn,fp,fn,tp)\n",
    "\n",
    "acc=(tn+tp)/(tn+tp+fp+fn)\n",
    "print(acc)\n",
    "pr=tp/(tp+fp)\n",
    "print(pr)\n",
    "rc=tp/(tp+fn)\n",
    "print(rc)\n",
    "f1=(2*pr*rc)/(pr+rc)\n",
    "print(f1)"
   ]
  },
  {
   "cell_type": "code",
   "execution_count": 67,
   "id": "88625a09",
   "metadata": {},
   "outputs": [
    {
     "name": "stdout",
     "output_type": "stream",
     "text": [
      "0.74\n",
      "0.84\n",
      "0.77\n",
      "0.799\n"
     ]
    }
   ],
   "source": [
    "acc=accuracy_score(y_test,y_pred_dt)\n",
    "pr=precision_score(y_test,y_pred_dt)\n",
    "rc=recall_score(y_test,y_pred_dt)\n",
    "f1=f1_score(y_test,y_pred_dt)\n",
    "print(round(acc,2))\n",
    "print(round(pr,2))\n",
    "print(round(rc,2))\n",
    "print(round(f1,3))"
   ]
  },
  {
   "cell_type": "code",
   "execution_count": 69,
   "id": "a25bbfa3",
   "metadata": {},
   "outputs": [
    {
     "data": {
      "image/png": "[encoded data removed]",
      "text/plain": [
       "<Figure size 640x480 with 2 Axes>"
      ]
     },
     "metadata": {},
     "output_type": "display_data"
    }
   ],
   "source": [
    "cmt=confusion_matrix(y_test,y_pred_dt)\n",
    "ConfusionMatrixDisplay(cmt).plot()\n",
    "plt.grid(False)"
   ]
  },
  {
   "cell_type": "markdown",
   "id": "bd2bc11b",
   "metadata": {},
   "source": [
    "$Roc$-$AUC$\n",
    "\n",
    "- X-axis: fpr\n",
    "    \n",
    "- y-axis: tpr\n",
    "    \n",
    "- Roc-Auc curve use the probabilities not predictions\n",
    "\n",
    "- we know that before getting the output, will get probabilities\n",
    "\n",
    "- accuracy , precision, recall,f1score will compare y_test with y_prediction\n",
    "\n",
    "- ROC AUC will compare y_test, y_predicted class-1 probabilites \n",
    "\n",
    "- y_score : probability"
   ]
  },
  {
   "cell_type": "code",
   "execution_count": 80,
   "id": "48640d39",
   "metadata": {},
   "outputs": [
    {
     "data": {
      "text/plain": [
       "[<matplotlib.lines.Line2D at 0x2602bfe5190>]"
      ]
     },
     "execution_count": 80,
     "metadata": {},
     "output_type": "execute_result"
    },
    {
     "data": {
      "image/png": "[encoded data removed]",
      "text/plain": [
       "<Figure size 640x480 with 1 Axes>"
      ]
     },
     "metadata": {},
     "output_type": "display_data"
    }
   ],
   "source": [
    "y_dt_pred_prob=dtree.predict_proba(X_test)[:,1]\n",
    "# X_test first sample ====== > 1 or 0\n",
    "\n",
    "# c-0 c-1\n",
    "\n",
    "#[0., 1.], ==== > 1\n",
    "#[0., 1.], ==== > 1\n",
    "#[1., 0.], ==== > 0 \n",
    "#[1., 0.] ===== > 0\n",
    "\n",
    "fpr, tpr, thresholds=roc_curve(y_test,y_dt_pred_prob)\n",
    "plt.plot(fpr,tpr)"
   ]
  },
  {
   "cell_type": "code",
   "execution_count": 75,
   "id": "98d2e758",
   "metadata": {},
   "outputs": [
    {
     "data": {
      "text/plain": [
       "array([1, 1, 1, 1, 1, 1, 1, 1, 1, 1, 1, 1, 1, 0, 1], dtype=int64)"
      ]
     },
     "execution_count": 75,
     "metadata": {},
     "output_type": "execute_result"
    }
   ],
   "source": [
    "y_pred_dt[:15]"
   ]
  },
  {
   "cell_type": "markdown",
   "id": "f9fa31e7",
   "metadata": {},
   "source": [
    "### Decision Tree"
   ]
  },
  {
   "cell_type": "code",
   "execution_count": 8,
   "id": "6b7b1ca7",
   "metadata": {},
   "outputs": [
    {
     "name": "stdout",
     "output_type": "stream",
     "text": [
      "accuray is: 74.04\n",
      "F1 is: 0.8\n",
      "Precision is: 0.83\n",
      "Recall is: 0.78\n",
      "              precision    recall  f1-score   support\n",
      "\n",
      "           0       0.58      0.65      0.61       305\n",
      "           1       0.83      0.78      0.80       662\n",
      "\n",
      "    accuracy                           0.74       967\n",
      "   macro avg       0.70      0.72      0.71       967\n",
      "weighted avg       0.75      0.74      0.74       967\n",
      "\n"
     ]
    },
    {
     "data": {
      "image/png": "[encoded data removed]",
      "text/plain": [
       "<Figure size 640x480 with 2 Axes>"
      ]
     },
     "metadata": {},
     "output_type": "display_data"
    },
    {
     "name": "stdout",
     "output_type": "stream",
     "text": [
      "True negative: 198\n",
      "False postive: 107\n",
      "False negative: 144\n",
      "True postive: 518\n"
     ]
    },
    {
     "data": {
      "image/png": "[encoded data removed]",
      "text/plain": [
       "<Figure size 640x480 with 1 Axes>"
      ]
     },
     "metadata": {},
     "output_type": "display_data"
    },
    {
     "name": "stdout",
     "output_type": "stream",
     "text": [
      "Computed Area Under the Curve (AUC) 0.7158288346292903\n"
     ]
    }
   ],
   "source": [
    "from sklearn.tree import DecisionTreeClassifier\n",
    "dtree=DecisionTreeClassifier()\n",
    "dtree.fit(X_train, y_train)\n",
    "\n",
    "# =============================Step-5:  Predictions============================================================\n",
    "\n",
    "y_pred_dt=dtree.predict(X_test)\n",
    "\n",
    "# ============================ Step-6: Metrics==================================================================\n",
    "\n",
    "acc_dt= round(accuracy_score(y_test,y_pred_dt)*100,2)\n",
    "f1_dt=round(f1_score(y_test,y_pred_dt),2)\n",
    "precision_dt=round(precision_score(y_test,y_pred_dt),2)\n",
    "recall_dt=round(recall_score(y_test,y_pred_dt),2)\n",
    "\n",
    "print(\"accuray is:\",acc_dt)\n",
    "print(\"F1 is:\",f1_dt)\n",
    "print(\"Precision is:\",precision_dt)\n",
    "print(\"Recall is:\",recall_dt)\n",
    "print(classification_report(y_test,y_pred_dt))\n",
    "\n",
    "# ================================Step-7:Confusion matrix=========================================================================\n",
    "\n",
    "cmt=confusion_matrix(y_test,y_pred_dt)\n",
    "\n",
    "disp=ConfusionMatrixDisplay(confusion_matrix=cmt,\n",
    "                            display_labels = [False, True])\n",
    "disp.plot()\n",
    "plt.grid(False)\n",
    "plt.show()\n",
    "\n",
    "\n",
    "tn, fp, fn, tp = confusion_matrix(y_test,y_pred_dt).ravel()\n",
    "print(\"True negative:\",tn)\n",
    "print(\"False postive:\",fp)\n",
    "print(\"False negative:\",fn)\n",
    "print(\"True postive:\",tp)\n",
    "\n",
    "#=======================================Step-8: ROC-AUC curve================================================================\n",
    "\n",
    "y_dt_pred_prob=dtree.predict_proba(X_test)[:,1]   # Class-1 probabilities\n",
    "fpr,tpr,threshold=roc_curve(y_test,y_dt_pred_prob) \n",
    "plt.plot([0,1],[0,1],color=\"navy\",lw=2,label=\"Random-Model\")\n",
    "plt.plot(fpr,tpr,color=\"darkorange\",lw=2, label=\"Decision Tree model\")\n",
    "plt.xlabel(\"False Positive Rate\")\n",
    "plt.ylabel(\"True Positive Rate\")\n",
    "plt.title(\"Receiver operating characteristic :ROC-AUC\")\n",
    "plt.legend()\n",
    "plt.show()\n",
    "print(\"Computed Area Under the Curve (AUC)\",auc(fpr, tpr))"
   ]
  },
  {
   "cell_type": "markdown",
   "id": "6154b49b",
   "metadata": {},
   "source": [
    "### Logistic Regression"
   ]
  },
  {
   "cell_type": "code",
   "execution_count": 11,
   "id": "0a391ecc",
   "metadata": {},
   "outputs": [
    {
     "name": "stderr",
     "output_type": "stream",
     "text": [
      "C:\\Users\\omkar\\anaconda3\\lib\\site-packages\\sklearn\\linear_model\\_logistic.py:458: ConvergenceWarning: lbfgs failed to converge (status=1):\n",
      "STOP: TOTAL NO. of ITERATIONS REACHED LIMIT.\n",
      "\n",
      "Increase the number of iterations (max_iter) or scale the data as shown in:\n",
      "    https://scikit-learn.org/stable/modules/preprocessing.html\n",
      "Please also refer to the documentation for alternative solver options:\n",
      "    https://scikit-learn.org/stable/modules/linear_model.html#logistic-regression\n",
      "  n_iter_i = _check_optimize_result(\n"
     ]
    },
    {
     "name": "stdout",
     "output_type": "stream",
     "text": [
      "accuray is: 77.77\n",
      "F1 is: 0.84\n",
      "Precision is: 0.82\n",
      "Recall is: 0.86\n"
     ]
    },
    {
     "data": {
      "image/png": "[encoded data removed]",
      "text/plain": [
       "<Figure size 640x480 with 2 Axes>"
      ]
     },
     "metadata": {},
     "output_type": "display_data"
    },
    {
     "name": "stdout",
     "output_type": "stream",
     "text": [
      "True negative: 183\n",
      "False postive: 122\n",
      "False negative: 93\n",
      "True postive: 569\n"
     ]
    },
    {
     "data": {
      "image/png": "[encoded data removed]",
      "text/plain": [
       "<Figure size 640x480 with 1 Axes>"
      ]
     },
     "metadata": {},
     "output_type": "display_data"
    }
   ],
   "source": [
    "\n",
    "# ===============================Step-4:  Train the Model===================================================\n",
    "\n",
    "from sklearn.linear_model import LogisticRegression\n",
    "logtree=LogisticRegression()\n",
    "logtree.fit(X_train, y_train)\n",
    "\n",
    "# =============================Step-5:  Predictions============================================================\n",
    "\n",
    "y_pred_log=logtree.predict(X_test)\n",
    "\n",
    "# ============================ Step-6: Metrics==================================================================\n",
    "acc_log= round(accuracy_score(y_test,y_pred_log)*100,2)\n",
    "f1_log=round(f1_score(y_test,y_pred_log),2)\n",
    "precision_log=round(precision_score(y_test,y_pred_log),2)\n",
    "recall_log=round(recall_score(y_test,y_pred_log),2)\n",
    "print(\"accuray is:\",acc_log)\n",
    "print(\"F1 is:\",f1_log)\n",
    "print(\"Precision is:\",precision_log)\n",
    "print(\"Recall is:\",recall_log)\n",
    "\n",
    "# ================================Step-7:Confusion matrix=========================================================================\n",
    "cmt=confusion_matrix(y_test,y_pred_log)\n",
    "\n",
    "disp=ConfusionMatrixDisplay(confusion_matrix=cmt,\n",
    "                            display_labels = [False, True])\n",
    "disp.plot()\n",
    "plt.grid(False)\n",
    "plt.show()\n",
    "\n",
    "\n",
    "tn, fp, fn, tp = confusion_matrix(y_test,y_pred_log).ravel()\n",
    "print(\"True negative:\",tn)\n",
    "print(\"False postive:\",fp)\n",
    "print(\"False negative:\",fn)\n",
    "print(\"True postive:\",tp)\n",
    "\n",
    "#=======================================Step-8: ROC-AUC curve================================================================\n",
    "\n",
    "y_log_pred_prob=logtree.predict_proba(X_test)[:,1]   # Class-1 probabilities\n",
    "fpr,tpr,threshold=roc_curve(y_test,y_log_pred_prob) \n",
    "plt.plot(fpr,tpr)\n",
    "plt.show()"
   ]
  },
  {
   "cell_type": "markdown",
   "id": "88dbc08e",
   "metadata": {},
   "source": [
    "### Naive Bayes"
   ]
  },
  {
   "cell_type": "code",
   "execution_count": 12,
   "id": "76d2d833",
   "metadata": {},
   "outputs": [
    {
     "name": "stdout",
     "output_type": "stream",
     "text": [
      "accuray is: 75.18\n",
      "F1 is: 0.8\n",
      "Precision is: 0.87\n",
      "Recall is: 0.75\n"
     ]
    },
    {
     "data": {
      "image/png": "[encoded data removed]",
      "text/plain": [
       "<Figure size 640x480 with 2 Axes>"
      ]
     },
     "metadata": {},
     "output_type": "display_data"
    },
    {
     "name": "stdout",
     "output_type": "stream",
     "text": [
      "True negative: 232\n",
      "False postive: 73\n",
      "False negative: 167\n",
      "True postive: 495\n"
     ]
    },
    {
     "data": {
      "image/png": "[encoded data removed]",
      "text/plain": [
       "<Figure size 640x480 with 1 Axes>"
      ]
     },
     "metadata": {},
     "output_type": "display_data"
    }
   ],
   "source": [
    "# ===============================Step-4:  Train the Model===================================================\n",
    "\n",
    "from sklearn.naive_bayes import GaussianNB\n",
    "NBtree=GaussianNB()\n",
    "NBtree.fit(X_train, y_train)\n",
    "\n",
    "# =============================Step-5:  Predictions============================================================\n",
    "\n",
    "y_pred_NB=NBtree.predict(X_test)\n",
    "\n",
    "# ============================ Step-6: Metrics==================================================================\n",
    "\n",
    "from sklearn.metrics import accuracy_score, f1_score, precision_score, recall_score, classification_report\n",
    "acc_NB= round(accuracy_score(y_test,y_pred_NB)*100,2)\n",
    "f1_NB=round(f1_score(y_test,y_pred_NB),2)\n",
    "precision_NB=round(precision_score(y_test,y_pred_NB),2)\n",
    "recall_NB=round(recall_score(y_test,y_pred_NB),2)\n",
    "print(\"accuray is:\",acc_NB)\n",
    "print(\"F1 is:\",f1_NB)\n",
    "print(\"Precision is:\",precision_NB)\n",
    "print(\"Recall is:\",recall_NB)\n",
    "\n",
    "# ================================Step-7:Confusion matrix=========================================================================\n",
    "from sklearn.metrics import confusion_matrix,ConfusionMatrixDisplay\n",
    "cmt=confusion_matrix(y_test,y_pred_NB)\n",
    "\n",
    "disp=ConfusionMatrixDisplay(confusion_matrix=cmt,\n",
    "                            display_labels = [False, True])\n",
    "disp.plot()\n",
    "plt.grid(False)\n",
    "plt.show()\n",
    "\n",
    "\n",
    "tn, fp, fn, tp = confusion_matrix(y_test,y_pred_NB).ravel()\n",
    "print(\"True negative:\",tn)\n",
    "print(\"False postive:\",fp)\n",
    "print(\"False negative:\",fn)\n",
    "print(\"True postive:\",tp)\n",
    "\n",
    "#=======================================Step-8: ROC-AUC curve================================================================\n",
    "\n",
    "y_NB_pred_prob=NBtree.predict_proba(X_test)[:,1]   # Class-1 probabilities\n",
    "fpr,tpr,threshold=roc_curve(y_test,y_NB_pred_prob) \n",
    "plt.plot(fpr,tpr)\n",
    "plt.show()"
   ]
  },
  {
   "cell_type": "markdown",
   "id": "355f3de7",
   "metadata": {},
   "source": [
    "### KNN"
   ]
  },
  {
   "cell_type": "code",
   "execution_count": 13,
   "id": "5156f253",
   "metadata": {},
   "outputs": [
    {
     "name": "stdout",
     "output_type": "stream",
     "text": [
      "accuray is: 73.73\n",
      "F1 is: 0.81\n",
      "Precision is: 0.79\n",
      "Recall is: 0.84\n"
     ]
    },
    {
     "data": {
      "image/png": "[encoded data removed]",
      "text/plain": [
       "<Figure size 640x480 with 2 Axes>"
      ]
     },
     "metadata": {},
     "output_type": "display_data"
    },
    {
     "name": "stdout",
     "output_type": "stream",
     "text": [
      "True negative: 156\n",
      "False postive: 149\n",
      "False negative: 105\n",
      "True postive: 557\n"
     ]
    },
    {
     "data": {
      "image/png": "[encoded data removed]",
      "text/plain": [
       "<Figure size 640x480 with 1 Axes>"
      ]
     },
     "metadata": {},
     "output_type": "display_data"
    }
   ],
   "source": [
    "# ===============================Step-4:  Train the Model===================================================\n",
    "\n",
    "from sklearn.neighbors import KNeighborsClassifier\n",
    "KNNtree=KNeighborsClassifier()\n",
    "KNNtree.fit(X_train, y_train)\n",
    "\n",
    "# =============================Step-5:  Predictions============================================================\n",
    "\n",
    "y_pred_KNN=KNNtree.predict(X_test)\n",
    "\n",
    "# ============================ Step-6: Metrics==================================================================\n",
    "\n",
    "from sklearn.metrics import accuracy_score, f1_score, precision_score, recall_score, classification_report\n",
    "acc_KNN= round(accuracy_score(y_test,y_pred_KNN)*100,2)\n",
    "f1_KNN=round(f1_score(y_test,y_pred_KNN),2)\n",
    "precision_KNN=round(precision_score(y_test,y_pred_KNN),2)\n",
    "recall_KNN=round(recall_score(y_test,y_pred_KNN),2)\n",
    "print(\"accuray is:\",acc_KNN)\n",
    "print(\"F1 is:\",f1_KNN)\n",
    "print(\"Precision is:\",precision_KNN)\n",
    "print(\"Recall is:\",recall_KNN)\n",
    "\n",
    "# ================================Step-7:Confusion matrix=========================================================================\n",
    "from sklearn.metrics import confusion_matrix,ConfusionMatrixDisplay\n",
    "cmt=confusion_matrix(y_test,y_pred_KNN)\n",
    "\n",
    "disp=ConfusionMatrixDisplay(confusion_matrix=cmt,\n",
    "                            display_labels = [False, True])\n",
    "disp.plot()\n",
    "plt.grid(False)\n",
    "plt.show()\n",
    "\n",
    "\n",
    "tn, fp, fn, tp = confusion_matrix(y_test,y_pred_KNN).ravel()\n",
    "print(\"True negative:\",tn)\n",
    "print(\"False postive:\",fp)\n",
    "print(\"False negative:\",fn)\n",
    "print(\"True postive:\",tp)\n",
    "\n",
    "#=======================================Step-8: ROC-AUC curve================================================================\n",
    "\n",
    "y_KNN_pred_prob=KNNtree.predict_proba(X_test)[:,1]   # Class-1 probabilities\n",
    "fpr,tpr,threshold=roc_curve(y_test,y_KNN_pred_prob) \n",
    "plt.plot(fpr,tpr)\n",
    "plt.show()"
   ]
  },
  {
   "cell_type": "markdown",
   "id": "b9ecbd92",
   "metadata": {},
   "source": [
    "### Random Forest"
   ]
  },
  {
   "cell_type": "code",
   "execution_count": 14,
   "id": "43e38420",
   "metadata": {},
   "outputs": [
    {
     "name": "stdout",
     "output_type": "stream",
     "text": [
      "accuray is: 82.63\n",
      "F1 is: 0.88\n",
      "Precision is: 0.85\n",
      "Recall is: 0.91\n"
     ]
    },
    {
     "data": {
      "image/png": "[encoded data removed]",
      "text/plain": [
       "<Figure size 640x480 with 2 Axes>"
      ]
     },
     "metadata": {},
     "output_type": "display_data"
    },
    {
     "name": "stdout",
     "output_type": "stream",
     "text": [
      "True negative: 199\n",
      "False postive: 106\n",
      "False negative: 62\n",
      "True postive: 600\n"
     ]
    },
    {
     "data": {
      "image/png": "[encoded data removed]",
      "text/plain": [
       "<Figure size 640x480 with 1 Axes>"
      ]
     },
     "metadata": {},
     "output_type": "display_data"
    }
   ],
   "source": [
    "# ===============================Step-4:  Train the Model===================================================\n",
    "\n",
    "from sklearn.ensemble import RandomForestClassifier\n",
    "RFtree=RandomForestClassifier()\n",
    "RFtree.fit(X_train, y_train)\n",
    "\n",
    "# =============================Step-5:  Predictions============================================================\n",
    "\n",
    "y_pred_RF=RFtree.predict(X_test)\n",
    "\n",
    "# ============================ Step-6: Metrics==================================================================\n",
    "\n",
    "from sklearn.metrics import accuracy_score, f1_score, precision_score, recall_score, classification_report\n",
    "acc_RF= round(accuracy_score(y_test,y_pred_RF)*100,2)\n",
    "f1_RF=round(f1_score(y_test,y_pred_RF),2)\n",
    "precision_RF=round(precision_score(y_test,y_pred_RF),2)\n",
    "recall_RF=round(recall_score(y_test,y_pred_RF),2)\n",
    "print(\"accuray is:\",acc_RF)\n",
    "print(\"F1 is:\",f1_RF)\n",
    "print(\"Precision is:\",precision_RF)\n",
    "print(\"Recall is:\",recall_RF)\n",
    "\n",
    "# ================================Step-7:Confusion matrix=========================================================================\n",
    "from sklearn.metrics import confusion_matrix,ConfusionMatrixDisplay\n",
    "cmt=confusion_matrix(y_test,y_pred_RF)\n",
    "\n",
    "disp=ConfusionMatrixDisplay(confusion_matrix=cmt,\n",
    "                            display_labels = [False, True])\n",
    "disp.plot()\n",
    "plt.grid(False)\n",
    "plt.show()\n",
    "\n",
    "\n",
    "tn, fp, fn, tp = confusion_matrix(y_test,y_pred_RF).ravel()\n",
    "print(\"True negative:\",tn)\n",
    "print(\"False postive:\",fp)\n",
    "print(\"False negative:\",fn)\n",
    "print(\"True postive:\",tp)\n",
    "\n",
    "#=======================================Step-8: ROC-AUC curve================================================================\n",
    "\n",
    "y_RF_pred_prob=RFtree.predict_proba(X_test)[:,1]   # Class-1 probabilities\n",
    "fpr,tpr,threshold=roc_curve(y_test,y_RF_pred_prob) \n",
    "plt.plot(fpr,tpr)\n",
    "plt.show()\n"
   ]
  },
  {
   "cell_type": "code",
   "execution_count": 15,
   "id": "3927e693",
   "metadata": {},
   "outputs": [
    {
     "data": {
      "text/html": [
       "<div>\n",
       "<style scoped>\n",
       "    .dataframe tbody tr th:only-of-type {\n",
       "        vertical-align: middle;\n",
       "    }\n",
       "\n",
       "    .dataframe tbody tr th {\n",
       "        vertical-align: top;\n",
       "    }\n",
       "\n",
       "    .dataframe thead th {\n",
       "        text-align: right;\n",
       "    }\n",
       "</style>\n",
       "<table border=\"1\" class=\"dataframe\">\n",
       "  <thead>\n",
       "    <tr style=\"text-align: right;\">\n",
       "      <th></th>\n",
       "      <th>Accuracy</th>\n",
       "      <th>Precision</th>\n",
       "      <th>Recall</th>\n",
       "      <th>F1-score</th>\n",
       "    </tr>\n",
       "  </thead>\n",
       "  <tbody>\n",
       "    <tr>\n",
       "      <th>DT</th>\n",
       "      <td>75.70</td>\n",
       "      <td>0.84</td>\n",
       "      <td>0.80</td>\n",
       "      <td>0.82</td>\n",
       "    </tr>\n",
       "    <tr>\n",
       "      <th>KNN</th>\n",
       "      <td>73.73</td>\n",
       "      <td>0.79</td>\n",
       "      <td>0.84</td>\n",
       "      <td>0.81</td>\n",
       "    </tr>\n",
       "    <tr>\n",
       "      <th>Logistic</th>\n",
       "      <td>77.77</td>\n",
       "      <td>0.82</td>\n",
       "      <td>0.86</td>\n",
       "      <td>0.84</td>\n",
       "    </tr>\n",
       "    <tr>\n",
       "      <th>Naive Bayes</th>\n",
       "      <td>75.18</td>\n",
       "      <td>0.87</td>\n",
       "      <td>0.75</td>\n",
       "      <td>0.80</td>\n",
       "    </tr>\n",
       "    <tr>\n",
       "      <th>Random Forest</th>\n",
       "      <td>82.63</td>\n",
       "      <td>0.85</td>\n",
       "      <td>0.91</td>\n",
       "      <td>0.88</td>\n",
       "    </tr>\n",
       "  </tbody>\n",
       "</table>\n",
       "</div>"
      ],
      "text/plain": [
       "               Accuracy  Precision  Recall  F1-score\n",
       "DT                75.70       0.84    0.80      0.82\n",
       "KNN               73.73       0.79    0.84      0.81\n",
       "Logistic          77.77       0.82    0.86      0.84\n",
       "Naive Bayes       75.18       0.87    0.75      0.80\n",
       "Random Forest     82.63       0.85    0.91      0.88"
      ]
     },
     "execution_count": 15,
     "metadata": {},
     "output_type": "execute_result"
    }
   ],
   "source": [
    "dict1={'Accuracy':[acc_dt,acc_KNN,acc_log,acc_NB,acc_RF],\n",
    "      \"Precision\":[precision_dt,precision_KNN,precision_log,precision_NB,precision_RF],\n",
    "      \"Recall\":[recall_dt,recall_KNN,recall_log,recall_NB,recall_RF],\n",
    "      \"F1-score\":[f1_dt,f1_KNN,f1_log,f1_NB,f1_RF]}\n",
    "\n",
    "pd.DataFrame(dict1,index=['DT','KNN','Logistic','Naive Bayes','Random Forest'])"
   ]
  },
  {
   "cell_type": "markdown",
   "id": "51fb44b6",
   "metadata": {},
   "source": [
    "## With Hyperparameter tuning"
   ]
  },
  {
   "cell_type": "markdown",
   "id": "d4a111aa",
   "metadata": {},
   "source": [
    "### Hyper parameter tuning\n",
    "\n",
    "- A hyperparameter is a parameter of a model is apply before the learning process\n",
    "\n",
    "- Different machine learning algorithms have different hyperparameters\n",
    "\n",
    "- We will use GridserachCV\n",
    "\n",
    "- GridSearchCV takes many hyperparameters as we like and tries every single possible combination\n",
    "\n",
    "- It will apply Cross validation (CV)\n",
    "\n",
    "- GridSeravhCV is a best method but time consuming"
   ]
  },
  {
   "cell_type": "markdown",
   "id": "7b5c8489",
   "metadata": {},
   "source": [
    "## Decision Tree"
   ]
  },
  {
   "cell_type": "code",
   "execution_count": 16,
   "id": "da3b4c3b",
   "metadata": {},
   "outputs": [
    {
     "data": {
      "text/html": [
       "<style>#sk-container-id-1 {color: black;background-color: white;}#sk-container-id-1 pre{padding: 0;}#sk-container-id-1 div.sk-toggleable {background-color: white;}#sk-container-id-1 label.sk-toggleable__label {cursor: pointer;display: block;width: 100%;margin-bottom: 0;padding: 0.3em;box-sizing: border-box;text-align: center;}#sk-container-id-1 label.sk-toggleable__label-arrow:before {content: \"▸\";float: left;margin-right: 0.25em;color: #696969;}#sk-container-id-1 label.sk-toggleable__label-arrow:hover:before {color: black;}#sk-container-id-1 div.sk-estimator:hover label.sk-toggleable__label-arrow:before {color: black;}#sk-container-id-1 div.sk-toggleable__content {max-height: 0;max-width: 0;overflow: hidden;text-align: left;background-color: #f0f8ff;}#sk-container-id-1 div.sk-toggleable__content pre {margin: 0.2em;color: black;border-radius: 0.25em;background-color: #f0f8ff;}#sk-container-id-1 input.sk-toggleable__control:checked~div.sk-toggleable__content {max-height: 200px;max-width: 100%;overflow: auto;}#sk-container-id-1 input.sk-toggleable__control:checked~label.sk-toggleable__label-arrow:before {content: \"▾\";}#sk-container-id-1 div.sk-estimator input.sk-toggleable__control:checked~label.sk-toggleable__label {background-color: #d4ebff;}#sk-container-id-1 div.sk-label input.sk-toggleable__control:checked~label.sk-toggleable__label {background-color: #d4ebff;}#sk-container-id-1 input.sk-hidden--visually {border: 0;clip: rect(1px 1px 1px 1px);clip: rect(1px, 1px, 1px, 1px);height: 1px;margin: -1px;overflow: hidden;padding: 0;position: absolute;width: 1px;}#sk-container-id-1 div.sk-estimator {font-family: monospace;background-color: #f0f8ff;border: 1px dotted black;border-radius: 0.25em;box-sizing: border-box;margin-bottom: 0.5em;}#sk-container-id-1 div.sk-estimator:hover {background-color: #d4ebff;}#sk-container-id-1 div.sk-parallel-item::after {content: \"\";width: 100%;border-bottom: 1px solid gray;flex-grow: 1;}#sk-container-id-1 div.sk-label:hover label.sk-toggleable__label {background-color: #d4ebff;}#sk-container-id-1 div.sk-serial::before {content: \"\";position: absolute;border-left: 1px solid gray;box-sizing: border-box;top: 0;bottom: 0;left: 50%;z-index: 0;}#sk-container-id-1 div.sk-serial {display: flex;flex-direction: column;align-items: center;background-color: white;padding-right: 0.2em;padding-left: 0.2em;position: relative;}#sk-container-id-1 div.sk-item {position: relative;z-index: 1;}#sk-container-id-1 div.sk-parallel {display: flex;align-items: stretch;justify-content: center;background-color: white;position: relative;}#sk-container-id-1 div.sk-item::before, #sk-container-id-1 div.sk-parallel-item::before {content: \"\";position: absolute;border-left: 1px solid gray;box-sizing: border-box;top: 0;bottom: 0;left: 50%;z-index: -1;}#sk-container-id-1 div.sk-parallel-item {display: flex;flex-direction: column;z-index: 1;position: relative;background-color: white;}#sk-container-id-1 div.sk-parallel-item:first-child::after {align-self: flex-end;width: 50%;}#sk-container-id-1 div.sk-parallel-item:last-child::after {align-self: flex-start;width: 50%;}#sk-container-id-1 div.sk-parallel-item:only-child::after {width: 0;}#sk-container-id-1 div.sk-dashed-wrapped {border: 1px dashed gray;margin: 0 0.4em 0.5em 0.4em;box-sizing: border-box;padding-bottom: 0.4em;background-color: white;}#sk-container-id-1 div.sk-label label {font-family: monospace;font-weight: bold;display: inline-block;line-height: 1.2em;}#sk-container-id-1 div.sk-label-container {text-align: center;}#sk-container-id-1 div.sk-container {/* jupyter's `normalize.less` sets `[hidden] { display: none; }` but bootstrap.min.css set `[hidden] { display: none !important; }` so we also need the `!important` here to be able to override the default hidden behavior on the sphinx rendered scikit-learn.org. See: https://github.com/scikit-learn/scikit-learn/issues/21755 */display: inline-block !important;position: relative;}#sk-container-id-1 div.sk-text-repr-fallback {display: none;}</style><div id=\"sk-container-id-1\" class=\"sk-top-container\"><div class=\"sk-text-repr-fallback\"><pre>DecisionTreeClassifier()</pre><b>In a Jupyter environment, please rerun this cell to show the HTML representation or trust the notebook. <br />On GitHub, the HTML representation is unable to render, please try loading this page with nbviewer.org.</b></div><div class=\"sk-container\" hidden><div class=\"sk-item\"><div class=\"sk-estimator sk-toggleable\"><input class=\"sk-toggleable__control sk-hidden--visually\" id=\"sk-estimator-id-1\" type=\"checkbox\" checked><label for=\"sk-estimator-id-1\" class=\"sk-toggleable__label sk-toggleable__label-arrow\">DecisionTreeClassifier</label><div class=\"sk-toggleable__content\"><pre>DecisionTreeClassifier()</pre></div></div></div></div></div>"
      ],
      "text/plain": [
       "DecisionTreeClassifier()"
      ]
     },
     "execution_count": 16,
     "metadata": {},
     "output_type": "execute_result"
    }
   ],
   "source": [
    "from sklearn.model_selection import GridSearchCV,cross_val_score\n",
    "grid_tree=DecisionTreeClassifier()   # Base model\n",
    "grid_tree"
   ]
  },
  {
   "cell_type": "code",
   "execution_count": 17,
   "id": "be96d762",
   "metadata": {},
   "outputs": [
    {
     "data": {
      "text/plain": [
       "{'ccp_alpha': 0.0,\n",
       " 'class_weight': None,\n",
       " 'criterion': 'gini',\n",
       " 'max_depth': None,\n",
       " 'max_features': None,\n",
       " 'max_leaf_nodes': None,\n",
       " 'min_impurity_decrease': 0.0,\n",
       " 'min_samples_leaf': 1,\n",
       " 'min_samples_split': 2,\n",
       " 'min_weight_fraction_leaf': 0.0,\n",
       " 'random_state': None,\n",
       " 'splitter': 'best'}"
      ]
     },
     "execution_count": 17,
     "metadata": {},
     "output_type": "execute_result"
    }
   ],
   "source": [
    "grid_tree.get_params()\n",
    "\n",
    "# Default parameters"
   ]
  },
  {
   "cell_type": "code",
   "execution_count": 18,
   "id": "52ffbf57",
   "metadata": {},
   "outputs": [
    {
     "data": {
      "text/plain": [
       "['ccp_alpha',\n",
       " 'class_weight',\n",
       " 'criterion',\n",
       " 'max_depth',\n",
       " 'max_features',\n",
       " 'max_leaf_nodes',\n",
       " 'min_impurity_decrease',\n",
       " 'min_samples_leaf',\n",
       " 'min_samples_split',\n",
       " 'min_weight_fraction_leaf',\n",
       " 'random_state',\n",
       " 'splitter']"
      ]
     },
     "execution_count": 18,
     "metadata": {},
     "output_type": "execute_result"
    }
   ],
   "source": [
    "DT_params=[keys for keys in grid_tree.get_params()]\n",
    "DT_params"
   ]
  },
  {
   "cell_type": "markdown",
   "id": "8f5bdb8a",
   "metadata": {},
   "source": [
    "**max_depth**:\n",
    "    \n",
    "    - The maximum depth of the tree. If None, then nodes are expanded until all leaves are pure or until all leaves contain less        than  min_samples_split samples.\n",
    "    \n",
    "**min_samples_split**:\n",
    "     \n",
    "      - The minimum number of samples required to split an internal node:\n",
    "      \n",
    "**min_samples_leaf**:\n",
    "    \n",
    "       - The minimum number of samples required to be at a leaf node."
   ]
  },
  {
   "cell_type": "code",
   "execution_count": 26,
   "id": "d38eb624",
   "metadata": {},
   "outputs": [],
   "source": [
    "# You need to create dictonary with hyper parameters\n",
    "param_grid = {\n",
    "    \"criterion\":['gini','entropy'],\n",
    "    'max_depth': [3, 4, 5, 6, 7, 8],\n",
    "    'min_samples_split': [2, 3, 4],\n",
    "    'min_samples_leaf': [1, 2, 3, 4],\n",
    "    'random_state': [0, 42]\n",
    "}"
   ]
  },
  {
   "cell_type": "code",
   "execution_count": 32,
   "id": "0a9aa085",
   "metadata": {},
   "outputs": [
    {
     "data": {
      "text/html": [
       "<style>#sk-container-id-9 {color: black;background-color: white;}#sk-container-id-9 pre{padding: 0;}#sk-container-id-9 div.sk-toggleable {background-color: white;}#sk-container-id-9 label.sk-toggleable__label {cursor: pointer;display: block;width: 100%;margin-bottom: 0;padding: 0.3em;box-sizing: border-box;text-align: center;}#sk-container-id-9 label.sk-toggleable__label-arrow:before {content: \"▸\";float: left;margin-right: 0.25em;color: #696969;}#sk-container-id-9 label.sk-toggleable__label-arrow:hover:before {color: black;}#sk-container-id-9 div.sk-estimator:hover label.sk-toggleable__label-arrow:before {color: black;}#sk-container-id-9 div.sk-toggleable__content {max-height: 0;max-width: 0;overflow: hidden;text-align: left;background-color: #f0f8ff;}#sk-container-id-9 div.sk-toggleable__content pre {margin: 0.2em;color: black;border-radius: 0.25em;background-color: #f0f8ff;}#sk-container-id-9 input.sk-toggleable__control:checked~div.sk-toggleable__content {max-height: 200px;max-width: 100%;overflow: auto;}#sk-container-id-9 input.sk-toggleable__control:checked~label.sk-toggleable__label-arrow:before {content: \"▾\";}#sk-container-id-9 div.sk-estimator input.sk-toggleable__control:checked~label.sk-toggleable__label {background-color: #d4ebff;}#sk-container-id-9 div.sk-label input.sk-toggleable__control:checked~label.sk-toggleable__label {background-color: #d4ebff;}#sk-container-id-9 input.sk-hidden--visually {border: 0;clip: rect(1px 1px 1px 1px);clip: rect(1px, 1px, 1px, 1px);height: 1px;margin: -1px;overflow: hidden;padding: 0;position: absolute;width: 1px;}#sk-container-id-9 div.sk-estimator {font-family: monospace;background-color: #f0f8ff;border: 1px dotted black;border-radius: 0.25em;box-sizing: border-box;margin-bottom: 0.5em;}#sk-container-id-9 div.sk-estimator:hover {background-color: #d4ebff;}#sk-container-id-9 div.sk-parallel-item::after {content: \"\";width: 100%;border-bottom: 1px solid gray;flex-grow: 1;}#sk-container-id-9 div.sk-label:hover label.sk-toggleable__label {background-color: #d4ebff;}#sk-container-id-9 div.sk-serial::before {content: \"\";position: absolute;border-left: 1px solid gray;box-sizing: border-box;top: 0;bottom: 0;left: 50%;z-index: 0;}#sk-container-id-9 div.sk-serial {display: flex;flex-direction: column;align-items: center;background-color: white;padding-right: 0.2em;padding-left: 0.2em;position: relative;}#sk-container-id-9 div.sk-item {position: relative;z-index: 1;}#sk-container-id-9 div.sk-parallel {display: flex;align-items: stretch;justify-content: center;background-color: white;position: relative;}#sk-container-id-9 div.sk-item::before, #sk-container-id-9 div.sk-parallel-item::before {content: \"\";position: absolute;border-left: 1px solid gray;box-sizing: border-box;top: 0;bottom: 0;left: 50%;z-index: -1;}#sk-container-id-9 div.sk-parallel-item {display: flex;flex-direction: column;z-index: 1;position: relative;background-color: white;}#sk-container-id-9 div.sk-parallel-item:first-child::after {align-self: flex-end;width: 50%;}#sk-container-id-9 div.sk-parallel-item:last-child::after {align-self: flex-start;width: 50%;}#sk-container-id-9 div.sk-parallel-item:only-child::after {width: 0;}#sk-container-id-9 div.sk-dashed-wrapped {border: 1px dashed gray;margin: 0 0.4em 0.5em 0.4em;box-sizing: border-box;padding-bottom: 0.4em;background-color: white;}#sk-container-id-9 div.sk-label label {font-family: monospace;font-weight: bold;display: inline-block;line-height: 1.2em;}#sk-container-id-9 div.sk-label-container {text-align: center;}#sk-container-id-9 div.sk-container {/* jupyter's `normalize.less` sets `[hidden] { display: none; }` but bootstrap.min.css set `[hidden] { display: none !important; }` so we also need the `!important` here to be able to override the default hidden behavior on the sphinx rendered scikit-learn.org. See: https://github.com/scikit-learn/scikit-learn/issues/21755 */display: inline-block !important;position: relative;}#sk-container-id-9 div.sk-text-repr-fallback {display: none;}</style><div id=\"sk-container-id-9\" class=\"sk-top-container\"><div class=\"sk-text-repr-fallback\"><pre>GridSearchCV(cv=5, estimator=DecisionTreeClassifier(),\n",
       "             param_grid={&#x27;criterion&#x27;: [&#x27;gini&#x27;, &#x27;entropy&#x27;],\n",
       "                         &#x27;max_depth&#x27;: [3, 4, 5, 6, 7, 8],\n",
       "                         &#x27;min_samples_leaf&#x27;: [1, 2, 3, 4],\n",
       "                         &#x27;min_samples_split&#x27;: [2, 3, 4],\n",
       "                         &#x27;random_state&#x27;: [0, 42]},\n",
       "             scoring=&#x27;accuracy&#x27;, verbose=True)</pre><b>In a Jupyter environment, please rerun this cell to show the HTML representation or trust the notebook. <br />On GitHub, the HTML representation is unable to render, please try loading this page with nbviewer.org.</b></div><div class=\"sk-container\" hidden><div class=\"sk-item sk-dashed-wrapped\"><div class=\"sk-label-container\"><div class=\"sk-label sk-toggleable\"><input class=\"sk-toggleable__control sk-hidden--visually\" id=\"sk-estimator-id-19\" type=\"checkbox\" ><label for=\"sk-estimator-id-19\" class=\"sk-toggleable__label sk-toggleable__label-arrow\">GridSearchCV</label><div class=\"sk-toggleable__content\"><pre>GridSearchCV(cv=5, estimator=DecisionTreeClassifier(),\n",
       "             param_grid={&#x27;criterion&#x27;: [&#x27;gini&#x27;, &#x27;entropy&#x27;],\n",
       "                         &#x27;max_depth&#x27;: [3, 4, 5, 6, 7, 8],\n",
       "                         &#x27;min_samples_leaf&#x27;: [1, 2, 3, 4],\n",
       "                         &#x27;min_samples_split&#x27;: [2, 3, 4],\n",
       "                         &#x27;random_state&#x27;: [0, 42]},\n",
       "             scoring=&#x27;accuracy&#x27;, verbose=True)</pre></div></div></div><div class=\"sk-parallel\"><div class=\"sk-parallel-item\"><div class=\"sk-item\"><div class=\"sk-label-container\"><div class=\"sk-label sk-toggleable\"><input class=\"sk-toggleable__control sk-hidden--visually\" id=\"sk-estimator-id-20\" type=\"checkbox\" ><label for=\"sk-estimator-id-20\" class=\"sk-toggleable__label sk-toggleable__label-arrow\">estimator: DecisionTreeClassifier</label><div class=\"sk-toggleable__content\"><pre>DecisionTreeClassifier()</pre></div></div></div><div class=\"sk-serial\"><div class=\"sk-item\"><div class=\"sk-estimator sk-toggleable\"><input class=\"sk-toggleable__control sk-hidden--visually\" id=\"sk-estimator-id-21\" type=\"checkbox\" ><label for=\"sk-estimator-id-21\" class=\"sk-toggleable__label sk-toggleable__label-arrow\">DecisionTreeClassifier</label><div class=\"sk-toggleable__content\"><pre>DecisionTreeClassifier()</pre></div></div></div></div></div></div></div></div></div></div>"
      ],
      "text/plain": [
       "GridSearchCV(cv=5, estimator=DecisionTreeClassifier(),\n",
       "             param_grid={'criterion': ['gini', 'entropy'],\n",
       "                         'max_depth': [3, 4, 5, 6, 7, 8],\n",
       "                         'min_samples_leaf': [1, 2, 3, 4],\n",
       "                         'min_samples_split': [2, 3, 4],\n",
       "                         'random_state': [0, 42]},\n",
       "             scoring='accuracy', verbose=True)"
      ]
     },
     "execution_count": 32,
     "metadata": {},
     "output_type": "execute_result"
    }
   ],
   "source": [
    "# now these parameters to apply in a DT model\n",
    "grid_search = GridSearchCV(grid_tree,  # Base modl\n",
    "                           param_grid, # params \n",
    "                           scoring='accuracy', # metric\n",
    "                           cv=5,\n",
    "                          verbose=True) # cross validation\n",
    "grid_search"
   ]
  },
  {
   "cell_type": "code",
   "execution_count": 33,
   "id": "ceb3ac6e",
   "metadata": {},
   "outputs": [
    {
     "name": "stdout",
     "output_type": "stream",
     "text": [
      "Fitting 5 folds for each of 288 candidates, totalling 1440 fits\n"
     ]
    },
    {
     "data": {
      "text/html": [
       "<style>#sk-container-id-10 {color: black;background-color: white;}#sk-container-id-10 pre{padding: 0;}#sk-container-id-10 div.sk-toggleable {background-color: white;}#sk-container-id-10 label.sk-toggleable__label {cursor: pointer;display: block;width: 100%;margin-bottom: 0;padding: 0.3em;box-sizing: border-box;text-align: center;}#sk-container-id-10 label.sk-toggleable__label-arrow:before {content: \"▸\";float: left;margin-right: 0.25em;color: #696969;}#sk-container-id-10 label.sk-toggleable__label-arrow:hover:before {color: black;}#sk-container-id-10 div.sk-estimator:hover label.sk-toggleable__label-arrow:before {color: black;}#sk-container-id-10 div.sk-toggleable__content {max-height: 0;max-width: 0;overflow: hidden;text-align: left;background-color: #f0f8ff;}#sk-container-id-10 div.sk-toggleable__content pre {margin: 0.2em;color: black;border-radius: 0.25em;background-color: #f0f8ff;}#sk-container-id-10 input.sk-toggleable__control:checked~div.sk-toggleable__content {max-height: 200px;max-width: 100%;overflow: auto;}#sk-container-id-10 input.sk-toggleable__control:checked~label.sk-toggleable__label-arrow:before {content: \"▾\";}#sk-container-id-10 div.sk-estimator input.sk-toggleable__control:checked~label.sk-toggleable__label {background-color: #d4ebff;}#sk-container-id-10 div.sk-label input.sk-toggleable__control:checked~label.sk-toggleable__label {background-color: #d4ebff;}#sk-container-id-10 input.sk-hidden--visually {border: 0;clip: rect(1px 1px 1px 1px);clip: rect(1px, 1px, 1px, 1px);height: 1px;margin: -1px;overflow: hidden;padding: 0;position: absolute;width: 1px;}#sk-container-id-10 div.sk-estimator {font-family: monospace;background-color: #f0f8ff;border: 1px dotted black;border-radius: 0.25em;box-sizing: border-box;margin-bottom: 0.5em;}#sk-container-id-10 div.sk-estimator:hover {background-color: #d4ebff;}#sk-container-id-10 div.sk-parallel-item::after {content: \"\";width: 100%;border-bottom: 1px solid gray;flex-grow: 1;}#sk-container-id-10 div.sk-label:hover label.sk-toggleable__label {background-color: #d4ebff;}#sk-container-id-10 div.sk-serial::before {content: \"\";position: absolute;border-left: 1px solid gray;box-sizing: border-box;top: 0;bottom: 0;left: 50%;z-index: 0;}#sk-container-id-10 div.sk-serial {display: flex;flex-direction: column;align-items: center;background-color: white;padding-right: 0.2em;padding-left: 0.2em;position: relative;}#sk-container-id-10 div.sk-item {position: relative;z-index: 1;}#sk-container-id-10 div.sk-parallel {display: flex;align-items: stretch;justify-content: center;background-color: white;position: relative;}#sk-container-id-10 div.sk-item::before, #sk-container-id-10 div.sk-parallel-item::before {content: \"\";position: absolute;border-left: 1px solid gray;box-sizing: border-box;top: 0;bottom: 0;left: 50%;z-index: -1;}#sk-container-id-10 div.sk-parallel-item {display: flex;flex-direction: column;z-index: 1;position: relative;background-color: white;}#sk-container-id-10 div.sk-parallel-item:first-child::after {align-self: flex-end;width: 50%;}#sk-container-id-10 div.sk-parallel-item:last-child::after {align-self: flex-start;width: 50%;}#sk-container-id-10 div.sk-parallel-item:only-child::after {width: 0;}#sk-container-id-10 div.sk-dashed-wrapped {border: 1px dashed gray;margin: 0 0.4em 0.5em 0.4em;box-sizing: border-box;padding-bottom: 0.4em;background-color: white;}#sk-container-id-10 div.sk-label label {font-family: monospace;font-weight: bold;display: inline-block;line-height: 1.2em;}#sk-container-id-10 div.sk-label-container {text-align: center;}#sk-container-id-10 div.sk-container {/* jupyter's `normalize.less` sets `[hidden] { display: none; }` but bootstrap.min.css set `[hidden] { display: none !important; }` so we also need the `!important` here to be able to override the default hidden behavior on the sphinx rendered scikit-learn.org. See: https://github.com/scikit-learn/scikit-learn/issues/21755 */display: inline-block !important;position: relative;}#sk-container-id-10 div.sk-text-repr-fallback {display: none;}</style><div id=\"sk-container-id-10\" class=\"sk-top-container\"><div class=\"sk-text-repr-fallback\"><pre>GridSearchCV(cv=5, estimator=DecisionTreeClassifier(),\n",
       "             param_grid={&#x27;criterion&#x27;: [&#x27;gini&#x27;, &#x27;entropy&#x27;],\n",
       "                         &#x27;max_depth&#x27;: [3, 4, 5, 6, 7, 8],\n",
       "                         &#x27;min_samples_leaf&#x27;: [1, 2, 3, 4],\n",
       "                         &#x27;min_samples_split&#x27;: [2, 3, 4],\n",
       "                         &#x27;random_state&#x27;: [0, 42]},\n",
       "             scoring=&#x27;accuracy&#x27;, verbose=True)</pre><b>In a Jupyter environment, please rerun this cell to show the HTML representation or trust the notebook. <br />On GitHub, the HTML representation is unable to render, please try loading this page with nbviewer.org.</b></div><div class=\"sk-container\" hidden><div class=\"sk-item sk-dashed-wrapped\"><div class=\"sk-label-container\"><div class=\"sk-label sk-toggleable\"><input class=\"sk-toggleable__control sk-hidden--visually\" id=\"sk-estimator-id-22\" type=\"checkbox\" ><label for=\"sk-estimator-id-22\" class=\"sk-toggleable__label sk-toggleable__label-arrow\">GridSearchCV</label><div class=\"sk-toggleable__content\"><pre>GridSearchCV(cv=5, estimator=DecisionTreeClassifier(),\n",
       "             param_grid={&#x27;criterion&#x27;: [&#x27;gini&#x27;, &#x27;entropy&#x27;],\n",
       "                         &#x27;max_depth&#x27;: [3, 4, 5, 6, 7, 8],\n",
       "                         &#x27;min_samples_leaf&#x27;: [1, 2, 3, 4],\n",
       "                         &#x27;min_samples_split&#x27;: [2, 3, 4],\n",
       "                         &#x27;random_state&#x27;: [0, 42]},\n",
       "             scoring=&#x27;accuracy&#x27;, verbose=True)</pre></div></div></div><div class=\"sk-parallel\"><div class=\"sk-parallel-item\"><div class=\"sk-item\"><div class=\"sk-label-container\"><div class=\"sk-label sk-toggleable\"><input class=\"sk-toggleable__control sk-hidden--visually\" id=\"sk-estimator-id-23\" type=\"checkbox\" ><label for=\"sk-estimator-id-23\" class=\"sk-toggleable__label sk-toggleable__label-arrow\">estimator: DecisionTreeClassifier</label><div class=\"sk-toggleable__content\"><pre>DecisionTreeClassifier()</pre></div></div></div><div class=\"sk-serial\"><div class=\"sk-item\"><div class=\"sk-estimator sk-toggleable\"><input class=\"sk-toggleable__control sk-hidden--visually\" id=\"sk-estimator-id-24\" type=\"checkbox\" ><label for=\"sk-estimator-id-24\" class=\"sk-toggleable__label sk-toggleable__label-arrow\">DecisionTreeClassifier</label><div class=\"sk-toggleable__content\"><pre>DecisionTreeClassifier()</pre></div></div></div></div></div></div></div></div></div></div>"
      ],
      "text/plain": [
       "GridSearchCV(cv=5, estimator=DecisionTreeClassifier(),\n",
       "             param_grid={'criterion': ['gini', 'entropy'],\n",
       "                         'max_depth': [3, 4, 5, 6, 7, 8],\n",
       "                         'min_samples_leaf': [1, 2, 3, 4],\n",
       "                         'min_samples_split': [2, 3, 4],\n",
       "                         'random_state': [0, 42]},\n",
       "             scoring='accuracy', verbose=True)"
      ]
     },
     "execution_count": 33,
     "metadata": {},
     "output_type": "execute_result"
    }
   ],
   "source": [
    "# train the model\n",
    "grid_search.fit(X_train,y_train)\n",
    "\n",
    "# It is searching for best fit"
   ]
  },
  {
   "cell_type": "code",
   "execution_count": 34,
   "id": "34c82eda",
   "metadata": {},
   "outputs": [
    {
     "data": {
      "text/html": [
       "<style>#sk-container-id-11 {color: black;background-color: white;}#sk-container-id-11 pre{padding: 0;}#sk-container-id-11 div.sk-toggleable {background-color: white;}#sk-container-id-11 label.sk-toggleable__label {cursor: pointer;display: block;width: 100%;margin-bottom: 0;padding: 0.3em;box-sizing: border-box;text-align: center;}#sk-container-id-11 label.sk-toggleable__label-arrow:before {content: \"▸\";float: left;margin-right: 0.25em;color: #696969;}#sk-container-id-11 label.sk-toggleable__label-arrow:hover:before {color: black;}#sk-container-id-11 div.sk-estimator:hover label.sk-toggleable__label-arrow:before {color: black;}#sk-container-id-11 div.sk-toggleable__content {max-height: 0;max-width: 0;overflow: hidden;text-align: left;background-color: #f0f8ff;}#sk-container-id-11 div.sk-toggleable__content pre {margin: 0.2em;color: black;border-radius: 0.25em;background-color: #f0f8ff;}#sk-container-id-11 input.sk-toggleable__control:checked~div.sk-toggleable__content {max-height: 200px;max-width: 100%;overflow: auto;}#sk-container-id-11 input.sk-toggleable__control:checked~label.sk-toggleable__label-arrow:before {content: \"▾\";}#sk-container-id-11 div.sk-estimator input.sk-toggleable__control:checked~label.sk-toggleable__label {background-color: #d4ebff;}#sk-container-id-11 div.sk-label input.sk-toggleable__control:checked~label.sk-toggleable__label {background-color: #d4ebff;}#sk-container-id-11 input.sk-hidden--visually {border: 0;clip: rect(1px 1px 1px 1px);clip: rect(1px, 1px, 1px, 1px);height: 1px;margin: -1px;overflow: hidden;padding: 0;position: absolute;width: 1px;}#sk-container-id-11 div.sk-estimator {font-family: monospace;background-color: #f0f8ff;border: 1px dotted black;border-radius: 0.25em;box-sizing: border-box;margin-bottom: 0.5em;}#sk-container-id-11 div.sk-estimator:hover {background-color: #d4ebff;}#sk-container-id-11 div.sk-parallel-item::after {content: \"\";width: 100%;border-bottom: 1px solid gray;flex-grow: 1;}#sk-container-id-11 div.sk-label:hover label.sk-toggleable__label {background-color: #d4ebff;}#sk-container-id-11 div.sk-serial::before {content: \"\";position: absolute;border-left: 1px solid gray;box-sizing: border-box;top: 0;bottom: 0;left: 50%;z-index: 0;}#sk-container-id-11 div.sk-serial {display: flex;flex-direction: column;align-items: center;background-color: white;padding-right: 0.2em;padding-left: 0.2em;position: relative;}#sk-container-id-11 div.sk-item {position: relative;z-index: 1;}#sk-container-id-11 div.sk-parallel {display: flex;align-items: stretch;justify-content: center;background-color: white;position: relative;}#sk-container-id-11 div.sk-item::before, #sk-container-id-11 div.sk-parallel-item::before {content: \"\";position: absolute;border-left: 1px solid gray;box-sizing: border-box;top: 0;bottom: 0;left: 50%;z-index: -1;}#sk-container-id-11 div.sk-parallel-item {display: flex;flex-direction: column;z-index: 1;position: relative;background-color: white;}#sk-container-id-11 div.sk-parallel-item:first-child::after {align-self: flex-end;width: 50%;}#sk-container-id-11 div.sk-parallel-item:last-child::after {align-self: flex-start;width: 50%;}#sk-container-id-11 div.sk-parallel-item:only-child::after {width: 0;}#sk-container-id-11 div.sk-dashed-wrapped {border: 1px dashed gray;margin: 0 0.4em 0.5em 0.4em;box-sizing: border-box;padding-bottom: 0.4em;background-color: white;}#sk-container-id-11 div.sk-label label {font-family: monospace;font-weight: bold;display: inline-block;line-height: 1.2em;}#sk-container-id-11 div.sk-label-container {text-align: center;}#sk-container-id-11 div.sk-container {/* jupyter's `normalize.less` sets `[hidden] { display: none; }` but bootstrap.min.css set `[hidden] { display: none !important; }` so we also need the `!important` here to be able to override the default hidden behavior on the sphinx rendered scikit-learn.org. See: https://github.com/scikit-learn/scikit-learn/issues/21755 */display: inline-block !important;position: relative;}#sk-container-id-11 div.sk-text-repr-fallback {display: none;}</style><div id=\"sk-container-id-11\" class=\"sk-top-container\"><div class=\"sk-text-repr-fallback\"><pre>DecisionTreeClassifier(max_depth=6, min_samples_leaf=4, random_state=0)</pre><b>In a Jupyter environment, please rerun this cell to show the HTML representation or trust the notebook. <br />On GitHub, the HTML representation is unable to render, please try loading this page with nbviewer.org.</b></div><div class=\"sk-container\" hidden><div class=\"sk-item\"><div class=\"sk-estimator sk-toggleable\"><input class=\"sk-toggleable__control sk-hidden--visually\" id=\"sk-estimator-id-25\" type=\"checkbox\" checked><label for=\"sk-estimator-id-25\" class=\"sk-toggleable__label sk-toggleable__label-arrow\">DecisionTreeClassifier</label><div class=\"sk-toggleable__content\"><pre>DecisionTreeClassifier(max_depth=6, min_samples_leaf=4, random_state=0)</pre></div></div></div></div></div>"
      ],
      "text/plain": [
       "DecisionTreeClassifier(max_depth=6, min_samples_leaf=4, random_state=0)"
      ]
     },
     "execution_count": 34,
     "metadata": {},
     "output_type": "execute_result"
    }
   ],
   "source": [
    "grid_search.best_estimator_"
   ]
  },
  {
   "cell_type": "code",
   "execution_count": 35,
   "id": "784238e1",
   "metadata": {},
   "outputs": [
    {
     "data": {
      "text/plain": [
       "{'criterion': 'gini',\n",
       " 'max_depth': 6,\n",
       " 'min_samples_leaf': 4,\n",
       " 'min_samples_split': 2,\n",
       " 'random_state': 0}"
      ]
     },
     "execution_count": 35,
     "metadata": {},
     "output_type": "execute_result"
    }
   ],
   "source": [
    "# Best parameters are\n",
    "grid_search.best_params_"
   ]
  },
  {
   "cell_type": "code",
   "execution_count": 36,
   "id": "bef46259",
   "metadata": {},
   "outputs": [
    {
     "data": {
      "text/plain": [
       "0.7878236939092202"
      ]
     },
     "execution_count": 36,
     "metadata": {},
     "output_type": "execute_result"
    }
   ],
   "source": [
    "grid_search.best_score_"
   ]
  },
  {
   "cell_type": "code",
   "execution_count": 39,
   "id": "27010012",
   "metadata": {},
   "outputs": [
    {
     "data": {
      "text/plain": [
       "array([0.79971591, 0.78805121, 0.77951636, 0.80938834, 0.76244666])"
      ]
     },
     "execution_count": 39,
     "metadata": {},
     "output_type": "execute_result"
    }
   ],
   "source": [
    "# cross validayion score\n",
    "cross_val_score(grid_search.best_estimator_,\n",
    "                X_train,\n",
    "                y_train,\n",
    "                scoring='accuracy')"
   ]
  },
  {
   "cell_type": "code",
   "execution_count": 40,
   "id": "ddc9a53d",
   "metadata": {},
   "outputs": [
    {
     "data": {
      "text/plain": [
       "0.7878236939092202"
      ]
     },
     "execution_count": 40,
     "metadata": {},
     "output_type": "execute_result"
    }
   ],
   "source": [
    "cross_val_score(grid_search.best_estimator_,\n",
    "                X_train,\n",
    "                y_train,\n",
    "                scoring='accuracy').mean()"
   ]
  },
  {
   "cell_type": "markdown",
   "id": "01a167d6",
   "metadata": {},
   "source": [
    "best_score_  and cross validation score both are same"
   ]
  },
  {
   "cell_type": "code",
   "execution_count": 43,
   "id": "71a0a335",
   "metadata": {},
   "outputs": [
    {
     "name": "stdout",
     "output_type": "stream",
     "text": [
      "avialable parameters for model: ['ccp_alpha', 'class_weight', 'criterion', 'max_depth', 'max_features', 'max_leaf_nodes', 'min_impurity_decrease', 'min_samples_leaf', 'min_samples_split', 'min_weight_fraction_leaf', 'random_state', 'splitter']\n",
      "==========================================================================================\n",
      "Processing parameters are: {'criterion': ['gini', 'entropy'], 'max_depth': [3, 4, 5, 6, 7, 8], 'min_samples_split': [2, 3, 4], 'min_samples_leaf': [1, 2, 3, 4], 'random_state': [0, 42]}\n",
      "===============================================================================================\n",
      "Fitting 5 folds for each of 288 candidates, totalling 1440 fits\n",
      "best params: {'criterion': 'gini', 'max_depth': 6, 'min_samples_leaf': 4, 'min_samples_split': 2, 'random_state': 0}\n",
      "best train accuracy: 0.7878236939092202\n"
     ]
    }
   ],
   "source": [
    "## All together\n",
    "\n",
    "#================================ Step-1: Get the base model===========================================\n",
    "from sklearn.model_selection import GridSearchCV,cross_val_score\n",
    "grid_tree=DecisionTreeClassifier()   # Base model\n",
    "DT_params=[keys for keys in grid_tree.get_params()]\n",
    "print(\"avialable parameters for model:\",DT_params)\n",
    "\n",
    "print(\"==========================================================================================\")\n",
    "\n",
    "#================================ Step-2: Create a dictionary for params=================================\n",
    "param_grid = {\n",
    "    \"criterion\":['gini','entropy'],\n",
    "    'max_depth': [3, 4, 5, 6, 7, 8],\n",
    "    'min_samples_split': [2, 3, 4],\n",
    "    'min_samples_leaf': [1, 2, 3, 4],\n",
    "    'random_state': [0, 42]\n",
    "}\n",
    "\n",
    "print(\"Processing parameters are:\",param_grid)\n",
    "\n",
    "print(\"===============================================================================================\")\n",
    "\n",
    "#============================== Step-3: Apply the Grid serach======================================\n",
    "grid_search = GridSearchCV(grid_tree,  # Base modl\n",
    "                           param_grid, # params \n",
    "                           scoring='accuracy', # metric\n",
    "                           cv=5,\n",
    "                          verbose=True)\n",
    "\n",
    "#============================= Step-4: fit the model with train data ===============================\n",
    "grid_search.fit(X_train,y_train)\n",
    "\n",
    "#============================= Step-5: Get the best parameters=====================================\n",
    "best_params=grid_search.best_params_\n",
    "best_score=grid_search.best_score_\n",
    "print(\"best params:\",best_params)\n",
    "print(\"best train accuracy:\",best_score)"
   ]
  },
  {
   "cell_type": "code",
   "execution_count": null,
   "id": "d35d4728",
   "metadata": {},
   "outputs": [],
   "source": [
    "#### Now we got our best parameters\n",
    "#### By using these best parameters we need to develop the model\n",
    "#### get the predictions\n",
    "#### get the metrics\n",
    "#### get the confusion matrix\n",
    "#### get the AUC-ROC curve"
   ]
  },
  {
   "cell_type": "markdown",
   "id": "21941071",
   "metadata": {},
   "source": [
    "### Developing Decison tree with best parameters:"
   ]
  },
  {
   "cell_type": "code",
   "execution_count": 46,
   "id": "f4f27483",
   "metadata": {},
   "outputs": [
    {
     "name": "stdout",
     "output_type": "stream",
     "text": [
      "accuray is: 78.9\n",
      "F1 is: 0.85\n",
      "Precision is: 0.82\n",
      "Recall is: 0.89\n",
      "              precision    recall  f1-score   support\n",
      "\n",
      "           0       0.71      0.56      0.63       305\n",
      "           1       0.82      0.89      0.85       662\n",
      "\n",
      "    accuracy                           0.79       967\n",
      "   macro avg       0.76      0.73      0.74       967\n",
      "weighted avg       0.78      0.79      0.78       967\n",
      "\n"
     ]
    },
    {
     "data": {
      "image/png": "[encoded data removed]",
      "text/plain": [
       "<Figure size 640x480 with 2 Axes>"
      ]
     },
     "metadata": {},
     "output_type": "display_data"
    },
    {
     "name": "stdout",
     "output_type": "stream",
     "text": [
      "True negative: 172\n",
      "False postive: 133\n",
      "False negative: 71\n",
      "True postive: 591\n"
     ]
    },
    {
     "data": {
      "text/plain": [
       "[<matplotlib.lines.Line2D at 0x1b9a8c18df0>]"
      ]
     },
     "execution_count": 46,
     "metadata": {},
     "output_type": "execute_result"
    },
    {
     "data": {
      "image/png": "[encoded data removed]",
      "text/plain": [
       "<Figure size 640x480 with 1 Axes>"
      ]
     },
     "metadata": {},
     "output_type": "display_data"
    }
   ],
   "source": [
    "from sklearn.tree import DecisionTreeClassifier\n",
    "dtree=DecisionTreeClassifier(criterion='gini',\n",
    "                            max_depth=6,\n",
    "                            min_samples_leaf=4,\n",
    "                            min_samples_split=2,\n",
    "                            random_state=0)\n",
    "dtree.fit(X_train, y_train)\n",
    "\n",
    "# =============================Step-5:  Predictions============================================================\n",
    "\n",
    "y_pred_dt=dtree.predict(X_test)\n",
    "\n",
    "# ============================ Step-6: Metrics==================================================================\n",
    "\n",
    "acc_dt= round(accuracy_score(y_test,y_pred_dt)*100,2)\n",
    "f1_dt=round(f1_score(y_test,y_pred_dt),2)\n",
    "precision_dt=round(precision_score(y_test,y_pred_dt),2)\n",
    "recall_dt=round(recall_score(y_test,y_pred_dt),2)\n",
    "\n",
    "print(\"accuray is:\",acc_dt)\n",
    "print(\"F1 is:\",f1_dt)\n",
    "print(\"Precision is:\",precision_dt)\n",
    "print(\"Recall is:\",recall_dt)\n",
    "print(classification_report(y_test,y_pred_dt))\n",
    "\n",
    "# ================================Step-7:Confusion matrix=========================================================================\n",
    "\n",
    "cmt=confusion_matrix(y_test,y_pred_dt)\n",
    "\n",
    "disp=ConfusionMatrixDisplay(confusion_matrix=cmt,\n",
    "                            display_labels = [False, True])\n",
    "disp.plot()\n",
    "plt.grid(False)\n",
    "plt.show()\n",
    "\n",
    "\n",
    "tn, fp, fn, tp = confusion_matrix(y_test,y_pred_dt).ravel()\n",
    "print(\"True negative:\",tn)\n",
    "print(\"False postive:\",fp)\n",
    "print(\"False negative:\",fn)\n",
    "print(\"True postive:\",tp)\n",
    "\n",
    "#=======================================Step-8: ROC-AUC curve================================================================\n",
    "\n",
    "y_dt_pred_prob=dtree.predict_proba(X_test)[:,1]   # Class-1 probabilities\n",
    "fpr,tpr,threshold=roc_curve(y_test,y_dt_pred_prob) \n",
    "plt.plot(fpr,tpr)"
   ]
  },
  {
   "cell_type": "markdown",
   "id": "636c0f92",
   "metadata": {},
   "source": [
    "### Important features"
   ]
  },
  {
   "cell_type": "code",
   "execution_count": 49,
   "id": "26f56d16",
   "metadata": {},
   "outputs": [
    {
     "data": {
      "text/html": [
       "<div>\n",
       "<style scoped>\n",
       "    .dataframe tbody tr th:only-of-type {\n",
       "        vertical-align: middle;\n",
       "    }\n",
       "\n",
       "    .dataframe tbody tr th {\n",
       "        vertical-align: top;\n",
       "    }\n",
       "\n",
       "    .dataframe thead th {\n",
       "        text-align: right;\n",
       "    }\n",
       "</style>\n",
       "<table border=\"1\" class=\"dataframe\">\n",
       "  <thead>\n",
       "    <tr style=\"text-align: right;\">\n",
       "      <th></th>\n",
       "      <th>Feature Name</th>\n",
       "      <th>Importance</th>\n",
       "    </tr>\n",
       "  </thead>\n",
       "  <tbody>\n",
       "    <tr>\n",
       "      <th>21</th>\n",
       "      <td>Contract</td>\n",
       "      <td>0.463993</td>\n",
       "    </tr>\n",
       "    <tr>\n",
       "      <th>6</th>\n",
       "      <td>Number of Referrals</td>\n",
       "      <td>0.180410</td>\n",
       "    </tr>\n",
       "    <tr>\n",
       "      <th>1</th>\n",
       "      <td>Age</td>\n",
       "      <td>0.107024</td>\n",
       "    </tr>\n",
       "    <tr>\n",
       "      <th>24</th>\n",
       "      <td>Monthly Charge</td>\n",
       "      <td>0.055101</td>\n",
       "    </tr>\n",
       "    <tr>\n",
       "      <th>28</th>\n",
       "      <td>Total Long Distance Charges</td>\n",
       "      <td>0.053574</td>\n",
       "    </tr>\n",
       "    <tr>\n",
       "      <th>3</th>\n",
       "      <td>Number of Dependents</td>\n",
       "      <td>0.038127</td>\n",
       "    </tr>\n",
       "    <tr>\n",
       "      <th>11</th>\n",
       "      <td>Internet Type</td>\n",
       "      <td>0.036841</td>\n",
       "    </tr>\n",
       "    <tr>\n",
       "      <th>2</th>\n",
       "      <td>Married</td>\n",
       "      <td>0.016883</td>\n",
       "    </tr>\n",
       "    <tr>\n",
       "      <th>29</th>\n",
       "      <td>Total Revenue</td>\n",
       "      <td>0.016349</td>\n",
       "    </tr>\n",
       "    <tr>\n",
       "      <th>7</th>\n",
       "      <td>Tenure in Months</td>\n",
       "      <td>0.011251</td>\n",
       "    </tr>\n",
       "    <tr>\n",
       "      <th>5</th>\n",
       "      <td>Longitude</td>\n",
       "      <td>0.007600</td>\n",
       "    </tr>\n",
       "    <tr>\n",
       "      <th>13</th>\n",
       "      <td>Online Security</td>\n",
       "      <td>0.003477</td>\n",
       "    </tr>\n",
       "    <tr>\n",
       "      <th>9</th>\n",
       "      <td>Avg Monthly Long Distance Charges</td>\n",
       "      <td>0.002758</td>\n",
       "    </tr>\n",
       "    <tr>\n",
       "      <th>12</th>\n",
       "      <td>Avg Monthly GB Download</td>\n",
       "      <td>0.002507</td>\n",
       "    </tr>\n",
       "    <tr>\n",
       "      <th>26</th>\n",
       "      <td>Total Refunds</td>\n",
       "      <td>0.001643</td>\n",
       "    </tr>\n",
       "    <tr>\n",
       "      <th>16</th>\n",
       "      <td>Premium Tech Support</td>\n",
       "      <td>0.001283</td>\n",
       "    </tr>\n",
       "    <tr>\n",
       "      <th>25</th>\n",
       "      <td>Total Charges</td>\n",
       "      <td>0.001178</td>\n",
       "    </tr>\n",
       "    <tr>\n",
       "      <th>27</th>\n",
       "      <td>Total Extra Data Charges</td>\n",
       "      <td>0.000000</td>\n",
       "    </tr>\n",
       "    <tr>\n",
       "      <th>23</th>\n",
       "      <td>Payment Method</td>\n",
       "      <td>0.000000</td>\n",
       "    </tr>\n",
       "    <tr>\n",
       "      <th>22</th>\n",
       "      <td>Paperless Billing</td>\n",
       "      <td>0.000000</td>\n",
       "    </tr>\n",
       "    <tr>\n",
       "      <th>0</th>\n",
       "      <td>Gender</td>\n",
       "      <td>0.000000</td>\n",
       "    </tr>\n",
       "    <tr>\n",
       "      <th>20</th>\n",
       "      <td>Unlimited Data</td>\n",
       "      <td>0.000000</td>\n",
       "    </tr>\n",
       "    <tr>\n",
       "      <th>19</th>\n",
       "      <td>Streaming Music</td>\n",
       "      <td>0.000000</td>\n",
       "    </tr>\n",
       "    <tr>\n",
       "      <th>18</th>\n",
       "      <td>Streaming Movies</td>\n",
       "      <td>0.000000</td>\n",
       "    </tr>\n",
       "    <tr>\n",
       "      <th>17</th>\n",
       "      <td>Streaming TV</td>\n",
       "      <td>0.000000</td>\n",
       "    </tr>\n",
       "    <tr>\n",
       "      <th>14</th>\n",
       "      <td>Online Backup</td>\n",
       "      <td>0.000000</td>\n",
       "    </tr>\n",
       "    <tr>\n",
       "      <th>10</th>\n",
       "      <td>Multiple Lines</td>\n",
       "      <td>0.000000</td>\n",
       "    </tr>\n",
       "    <tr>\n",
       "      <th>8</th>\n",
       "      <td>Offer</td>\n",
       "      <td>0.000000</td>\n",
       "    </tr>\n",
       "    <tr>\n",
       "      <th>4</th>\n",
       "      <td>Latitude</td>\n",
       "      <td>0.000000</td>\n",
       "    </tr>\n",
       "    <tr>\n",
       "      <th>15</th>\n",
       "      <td>Device Protection Plan</td>\n",
       "      <td>0.000000</td>\n",
       "    </tr>\n",
       "  </tbody>\n",
       "</table>\n",
       "</div>"
      ],
      "text/plain": [
       "                         Feature Name  Importance\n",
       "21                           Contract    0.463993\n",
       "6                 Number of Referrals    0.180410\n",
       "1                                 Age    0.107024\n",
       "24                     Monthly Charge    0.055101\n",
       "28        Total Long Distance Charges    0.053574\n",
       "3                Number of Dependents    0.038127\n",
       "11                      Internet Type    0.036841\n",
       "2                             Married    0.016883\n",
       "29                      Total Revenue    0.016349\n",
       "7                    Tenure in Months    0.011251\n",
       "5                           Longitude    0.007600\n",
       "13                    Online Security    0.003477\n",
       "9   Avg Monthly Long Distance Charges    0.002758\n",
       "12            Avg Monthly GB Download    0.002507\n",
       "26                      Total Refunds    0.001643\n",
       "16               Premium Tech Support    0.001283\n",
       "25                      Total Charges    0.001178\n",
       "27           Total Extra Data Charges    0.000000\n",
       "23                     Payment Method    0.000000\n",
       "22                  Paperless Billing    0.000000\n",
       "0                              Gender    0.000000\n",
       "20                     Unlimited Data    0.000000\n",
       "19                    Streaming Music    0.000000\n",
       "18                   Streaming Movies    0.000000\n",
       "17                       Streaming TV    0.000000\n",
       "14                      Online Backup    0.000000\n",
       "10                     Multiple Lines    0.000000\n",
       "8                               Offer    0.000000\n",
       "4                            Latitude    0.000000\n",
       "15             Device Protection Plan    0.000000"
      ]
     },
     "execution_count": 49,
     "metadata": {},
     "output_type": "execute_result"
    }
   ],
   "source": [
    "imp_df = pd.DataFrame({\n",
    "    \"Feature Name\": X_train.columns,\n",
    "    \"Importance\": dtree.feature_importances_\n",
    "})\n",
    "fi = imp_df.sort_values(by=\"Importance\", ascending=False)\n",
    "fi\n",
    "\n",
    "# automatic way to provide feature importance \n",
    "# is avialble inly in DT : Information gain"
   ]
  },
  {
   "cell_type": "code",
   "execution_count": null,
   "id": "1a00e47a",
   "metadata": {},
   "outputs": [],
   "source": [
    "# Step-1: EDA\n",
    "# Step-2: Devlope a model\n",
    "# Step-3: calculate metrics\n",
    "# step-4: do the hyper parameter tuning\n",
    "# step-5: Get the best params\n",
    "# step-6: Develop the model with best params\n",
    "# step-7: calculate mterics"
   ]
  },
  {
   "cell_type": "markdown",
   "id": "125c114c",
   "metadata": {},
   "source": [
    "#### Random forest: Hyper parameter tuning"
   ]
  },
  {
   "cell_type": "code",
   "execution_count": 51,
   "id": "cba39d89",
   "metadata": {},
   "outputs": [
    {
     "name": "stdout",
     "output_type": "stream",
     "text": [
      "avialable parameters for model: ['bootstrap', 'ccp_alpha', 'class_weight', 'criterion', 'max_depth', 'max_features', 'max_leaf_nodes', 'max_samples', 'min_impurity_decrease', 'min_samples_leaf', 'min_samples_split', 'min_weight_fraction_leaf', 'n_estimators', 'n_jobs', 'oob_score', 'random_state', 'verbose', 'warm_start']\n",
      "==========================================================================================\n",
      "Processing parameters are: {'n_estimators': [100, 200], 'criterion': ['gini', 'entropy'], 'max_depth': [None, 5, 10], 'max_features': ['sqrt', 'log2', None], 'random_state': [0, 42]}\n",
      "===============================================================================================\n",
      "Fitting 5 folds for each of 72 candidates, totalling 360 fits\n",
      "best params: {'criterion': 'entropy', 'max_depth': 10, 'max_features': None, 'n_estimators': 200, 'random_state': 42}\n",
      "best train accuracy: 0.8193949631449631\n"
     ]
    }
   ],
   "source": [
    "## All together\n",
    "\n",
    "#================================ Step-1: Get the base model===========================================\n",
    "from sklearn.model_selection import GridSearchCV,cross_val_score\n",
    "grid_RF=RandomForestClassifier()   # Base model\n",
    "RF_params=[keys for keys in grid_RF.get_params()]\n",
    "print(\"avialable parameters for model:\",RF_params)\n",
    "\n",
    "print(\"==========================================================================================\")\n",
    "\n",
    "#================================ Step-2: Create a dictionary for params=================================\n",
    "param_grid = {\n",
    "    'n_estimators': [100, 200],\n",
    "    \"criterion\":['gini','entropy'],\n",
    "    'max_depth': [None, 5, 10],\n",
    "    'max_features': ['sqrt', 'log2', None],\n",
    "    'random_state': [0, 42]\n",
    "}\n",
    "\n",
    "print(\"Processing parameters are:\",param_grid)\n",
    "\n",
    "print(\"===============================================================================================\")\n",
    "\n",
    "#============================== Step-3: Apply the Grid serach======================================\n",
    "grid_search = GridSearchCV(grid_RF,  # Base modl\n",
    "                           param_grid, # params \n",
    "                           scoring='accuracy', # metric\n",
    "                           cv=5,\n",
    "                          verbose=True)\n",
    "\n",
    "#============================= Step-4: fit the model with train data ===============================\n",
    "grid_search.fit(X_train,y_train)\n",
    "\n",
    "#============================= Step-5: Get the best parameters=====================================\n",
    "best_params=grid_search.best_params_\n",
    "best_score=grid_search.best_score_\n",
    "print(\"best params:\",best_params)\n",
    "print(\"best train accuracy:\",best_score)"
   ]
  },
  {
   "cell_type": "markdown",
   "id": "14e98e10",
   "metadata": {},
   "source": [
    "### Developing Random forest with best parameters:"
   ]
  },
  {
   "cell_type": "code",
   "execution_count": null,
   "id": "485a7b1b",
   "metadata": {},
   "outputs": [],
   "source": [
    "# ===============================Step-4:  Train the Model===================================================\n",
    "\n",
    "from sklearn.ensemble import RandomForestClassifier\n",
    "RFtree=RandomForestClassifier()\n",
    "RFtree.fit(X_train, y_train)\n",
    "\n",
    "# =============================Step-5:  Predictions============================================================\n",
    "\n",
    "y_pred_RF=RFtree.predict(X_test)\n",
    "\n",
    "# ============================ Step-6: Metrics==================================================================\n",
    "\n",
    "from sklearn.metrics import accuracy_score, f1_score, precision_score, recall_score, classification_report\n",
    "acc_RF= round(accuracy_score(y_test,y_pred_RF)*100,2)\n",
    "f1_RF=round(f1_score(y_test,y_pred_RF),2)\n",
    "precision_RF=round(precision_score(y_test,y_pred_RF),2)\n",
    "recall_RF=round(recall_score(y_test,y_pred_RF),2)\n",
    "print(\"accuray is:\",acc_RF)\n",
    "print(\"F1 is:\",f1_RF)\n",
    "print(\"Precision is:\",precision_RF)\n",
    "print(\"Recall is:\",recall_RF)\n",
    "\n",
    "# ================================Step-7:Confusion matrix=========================================================================\n",
    "from sklearn.metrics import confusion_matrix,ConfusionMatrixDisplay\n",
    "cmt=confusion_matrix(y_test,y_pred_RF)\n",
    "\n",
    "disp=ConfusionMatrixDisplay(confusion_matrix=cmt,\n",
    "                            display_labels = [False, True])\n",
    "disp.plot()\n",
    "plt.grid(False)\n",
    "plt.show()\n",
    "\n",
    "\n",
    "tn, fp, fn, tp = confusion_matrix(y_test,y_pred_RF).ravel()\n",
    "print(\"True negative:\",tn)\n",
    "print(\"False postive:\",fp)\n",
    "print(\"False negative:\",fn)\n",
    "print(\"True postive:\",tp)\n",
    "\n",
    "#=======================================Step-8: ROC-AUC curve================================================================\n",
    "\n",
    "y_RF_pred_prob=RFtree.predict_proba(X_test)[:,1]   # Class-1 probabilities\n",
    "fpr,tpr,threshold=roc_curve(y_test,y_RF_pred_prob) \n",
    "plt.plot(fpr,tpr)\n",
    "plt.show()\n"
   ]
  },
  {
   "cell_type": "markdown",
   "id": "e5faca29",
   "metadata": {},
   "source": [
    "### KNN- with hypear parameter tuning"
   ]
  },
  {
   "cell_type": "code",
   "execution_count": null,
   "id": "5d4025fd",
   "metadata": {},
   "outputs": [],
   "source": [
    "## All together\n",
    "\n",
    "#================================ Step-1: Get the base model===========================================\n",
    "from sklearn.model_selection import GridSearchCV,cross_val_score\n",
    "grid_KNN=KNeighborsClassifier()   # Base model\n",
    "KNN_params=[keys for keys in grid_KNN.get_params()]\n",
    "print(\"avialable parameters for model:\",KNN_params)\n",
    "\n",
    "print(\"==========================================================================================\")\n",
    "\n",
    "#================================ Step-2: Create a dictionary for params=================================\n",
    "param_grid = {\n",
    "              \"n_neighbors\":[5,6,7,10],\n",
    "              \"leaf_size\":[20,30,40,50],\n",
    "              \"algorithm\" :['auto', 'ball_tree', 'kd_tree', 'brute']\n",
    "\n",
    "}\n",
    "\n",
    "print(\"Processing parameters are:\",param_grid)\n",
    "\n",
    "print(\"===============================================================================================\")\n",
    "\n",
    "#============================== Step-3: Apply the Grid serach======================================\n",
    "grid_search = GridSearchCV(grid_KNN,  # Base modl\n",
    "                           param_grid, # params \n",
    "                           scoring='accuracy', # metric\n",
    "                           cv=5,\n",
    "                          verbose=True)\n",
    "\n",
    "#============================= Step-4: fit the model with train data ===============================\n",
    "grid_search.fit(X_train,y_train)\n",
    "\n",
    "#============================= Step-5: Get the best parameters=====================================\n",
    "best_params=grid_search.best_params_\n",
    "best_score=grid_search.best_score_\n",
    "print(\"best params:\",best_params)\n",
    "print(\"best train accuracy:\",best_score)"
   ]
  }
 ],
 "metadata": {
  "kernelspec": {
   "display_name": "Python 3 (ipykernel)",
   "language": "python",
   "name": "python3"
  },
  "language_info": {
   "codemirror_mode": {
    "name": "ipython",
    "version": 3
   },
   "file_extension": ".py",
   "mimetype": "text/x-python",
   "name": "python",
   "nbconvert_exporter": "python",
   "pygments_lexer": "ipython3",
   "version": "3.11.7"
  }
 },
 "nbformat": 4,
 "nbformat_minor": 5
}
